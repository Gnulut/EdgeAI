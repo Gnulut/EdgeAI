{
 "cells": [
  {
   "cell_type": "code",
   "execution_count": null,
   "metadata": {},
   "outputs": [
    {
     "data": {
      "text/plain": [
       "<Figure size 1000x600 with 0 Axes>"
      ]
     },
     "metadata": {},
     "output_type": "display_data"
    }
   ],
   "source": [
    "from sklearn.tree import DecisionTreeClassifier\n",
    "from sklearn.ensemble import RandomForestClassifier,AdaBoostClassifier\n",
    "from sklearn.discriminant_analysis import LinearDiscriminantAnalysis\n",
    "from sklearn.neighbors import KNeighborsClassifier\n",
    "from learn import Learn\n",
    "import load\n",
    "import pandas as pd"
   ]
  },
  {
   "cell_type": "code",
   "execution_count": 4,
   "metadata": {},
   "outputs": [
    {
     "name": "stdout",
     "output_type": "stream",
     "text": [
      "Using ready-made DataFrame\n"
     ]
    }
   ],
   "source": [
    "wesad = load.WESAD()"
   ]
  },
  {
   "cell_type": "markdown",
   "metadata": {},
   "source": [
    "### mutiT_feature_extraction 內部程式講解"
   ]
  },
  {
   "cell_type": "code",
   "execution_count": 5,
   "metadata": {},
   "outputs": [],
   "source": [
    "cols = ['label', 'subject', 'ACC_0', 'ACC_1', 'ACC_2', 'ECG', 'EMG', 'EDA', 'Resp', 'Temp']\n",
    "sample_n = 700 * 100\n",
    "signal = wesad.group(sample_n=sample_n)"
   ]
  },
  {
   "cell_type": "code",
   "execution_count": 6,
   "metadata": {},
   "outputs": [
    {
     "data": {
      "text/plain": [
       "15"
      ]
     },
     "execution_count": 6,
     "metadata": {},
     "output_type": "execute_result"
    }
   ],
   "source": [
    "subjects_len = len(wesad._subjects)\n",
    "subjects_len"
   ]
  },
  {
   "cell_type": "code",
   "execution_count": 7,
   "metadata": {},
   "outputs": [
    {
     "name": "stdout",
     "output_type": "stream",
     "text": [
      "2100000\n",
      "2100000\n"
     ]
    }
   ],
   "source": [
    "print(subjects_len*sample_n*2)\n",
    "print(signal.shape[0])"
   ]
  },
  {
   "cell_type": "markdown",
   "metadata": {},
   "source": [
    "# 特徵提取"
   ]
  },
  {
   "cell_type": "code",
   "execution_count": 8,
   "metadata": {},
   "outputs": [],
   "source": [
    "df = wesad.separate_and_feature_extract(sample_n=100000)"
   ]
  },
  {
   "cell_type": "code",
   "execution_count": 9,
   "metadata": {},
   "outputs": [
    {
     "data": {
      "text/html": [
       "<div>\n",
       "<style scoped>\n",
       "    .dataframe tbody tr th:only-of-type {\n",
       "        vertical-align: middle;\n",
       "    }\n",
       "\n",
       "    .dataframe tbody tr th {\n",
       "        vertical-align: top;\n",
       "    }\n",
       "\n",
       "    .dataframe thead th {\n",
       "        text-align: right;\n",
       "    }\n",
       "</style>\n",
       "<table border=\"1\" class=\"dataframe\">\n",
       "  <thead>\n",
       "    <tr style=\"text-align: right;\">\n",
       "      <th></th>\n",
       "      <th>label</th>\n",
       "      <th>subject</th>\n",
       "      <th>std_ACC_0</th>\n",
       "      <th>mean_ACC_0</th>\n",
       "      <th>std_ACC_1</th>\n",
       "      <th>mean_ACC_1</th>\n",
       "      <th>std_ACC_2</th>\n",
       "      <th>mean_ACC_2</th>\n",
       "      <th>ECG_ULF</th>\n",
       "      <th>ECG_LF</th>\n",
       "      <th>ECG_HF</th>\n",
       "      <th>ECG_UHF</th>\n",
       "      <th>std_EMG</th>\n",
       "      <th>mean_EMG</th>\n",
       "      <th>std_EDA</th>\n",
       "      <th>mean_EDA</th>\n",
       "      <th>std_Resp</th>\n",
       "      <th>mean_Resp</th>\n",
       "      <th>std_Temp</th>\n",
       "      <th>mean_Temp</th>\n",
       "    </tr>\n",
       "  </thead>\n",
       "  <tbody>\n",
       "    <tr>\n",
       "      <th>0</th>\n",
       "      <td>1</td>\n",
       "      <td>S10</td>\n",
       "      <td>0.021296</td>\n",
       "      <td>0.889165</td>\n",
       "      <td>0.062617</td>\n",
       "      <td>0.021647</td>\n",
       "      <td>0.200988</td>\n",
       "      <td>-0.044627</td>\n",
       "      <td>0.0</td>\n",
       "      <td>0.0</td>\n",
       "      <td>0.000000</td>\n",
       "      <td>0.003632</td>\n",
       "      <td>0.009564</td>\n",
       "      <td>-0.002292</td>\n",
       "      <td>0.030401</td>\n",
       "      <td>0.787092</td>\n",
       "      <td>2.600030</td>\n",
       "      <td>0.089273</td>\n",
       "      <td>0.119035</td>\n",
       "      <td>34.289780</td>\n",
       "    </tr>\n",
       "    <tr>\n",
       "      <th>1</th>\n",
       "      <td>1</td>\n",
       "      <td>S10</td>\n",
       "      <td>0.021247</td>\n",
       "      <td>0.889307</td>\n",
       "      <td>0.062763</td>\n",
       "      <td>0.021454</td>\n",
       "      <td>0.200891</td>\n",
       "      <td>-0.043286</td>\n",
       "      <td>0.0</td>\n",
       "      <td>0.0</td>\n",
       "      <td>0.000000</td>\n",
       "      <td>0.007861</td>\n",
       "      <td>0.009549</td>\n",
       "      <td>-0.002326</td>\n",
       "      <td>0.030269</td>\n",
       "      <td>0.787283</td>\n",
       "      <td>2.589120</td>\n",
       "      <td>0.090474</td>\n",
       "      <td>0.118927</td>\n",
       "      <td>34.289845</td>\n",
       "    </tr>\n",
       "    <tr>\n",
       "      <th>2</th>\n",
       "      <td>1</td>\n",
       "      <td>S10</td>\n",
       "      <td>0.021250</td>\n",
       "      <td>0.889349</td>\n",
       "      <td>0.063309</td>\n",
       "      <td>0.020846</td>\n",
       "      <td>0.201156</td>\n",
       "      <td>-0.040942</td>\n",
       "      <td>0.0</td>\n",
       "      <td>0.0</td>\n",
       "      <td>0.000000</td>\n",
       "      <td>0.011898</td>\n",
       "      <td>0.009556</td>\n",
       "      <td>-0.002304</td>\n",
       "      <td>0.030230</td>\n",
       "      <td>0.787646</td>\n",
       "      <td>2.578043</td>\n",
       "      <td>0.095862</td>\n",
       "      <td>0.118357</td>\n",
       "      <td>34.290665</td>\n",
       "    </tr>\n",
       "    <tr>\n",
       "      <th>3</th>\n",
       "      <td>1</td>\n",
       "      <td>S10</td>\n",
       "      <td>0.021252</td>\n",
       "      <td>0.889406</td>\n",
       "      <td>0.063503</td>\n",
       "      <td>0.020462</td>\n",
       "      <td>0.201314</td>\n",
       "      <td>-0.039765</td>\n",
       "      <td>0.0</td>\n",
       "      <td>0.0</td>\n",
       "      <td>0.000000</td>\n",
       "      <td>0.022775</td>\n",
       "      <td>0.009576</td>\n",
       "      <td>-0.002274</td>\n",
       "      <td>0.030213</td>\n",
       "      <td>0.787724</td>\n",
       "      <td>2.572635</td>\n",
       "      <td>0.084665</td>\n",
       "      <td>0.118344</td>\n",
       "      <td>34.291039</td>\n",
       "    </tr>\n",
       "    <tr>\n",
       "      <th>4</th>\n",
       "      <td>1</td>\n",
       "      <td>S10</td>\n",
       "      <td>0.021246</td>\n",
       "      <td>0.889484</td>\n",
       "      <td>0.063548</td>\n",
       "      <td>0.020454</td>\n",
       "      <td>0.201136</td>\n",
       "      <td>-0.039346</td>\n",
       "      <td>0.0</td>\n",
       "      <td>0.0</td>\n",
       "      <td>0.024009</td>\n",
       "      <td>0.016189</td>\n",
       "      <td>0.009574</td>\n",
       "      <td>-0.002286</td>\n",
       "      <td>0.030347</td>\n",
       "      <td>0.787898</td>\n",
       "      <td>2.561957</td>\n",
       "      <td>0.085368</td>\n",
       "      <td>0.119123</td>\n",
       "      <td>34.291088</td>\n",
       "    </tr>\n",
       "    <tr>\n",
       "      <th>...</th>\n",
       "      <td>...</td>\n",
       "      <td>...</td>\n",
       "      <td>...</td>\n",
       "      <td>...</td>\n",
       "      <td>...</td>\n",
       "      <td>...</td>\n",
       "      <td>...</td>\n",
       "      <td>...</td>\n",
       "      <td>...</td>\n",
       "      <td>...</td>\n",
       "      <td>...</td>\n",
       "      <td>...</td>\n",
       "      <td>...</td>\n",
       "      <td>...</td>\n",
       "      <td>...</td>\n",
       "      <td>...</td>\n",
       "      <td>...</td>\n",
       "      <td>...</td>\n",
       "      <td>...</td>\n",
       "      <td>...</td>\n",
       "    </tr>\n",
       "    <tr>\n",
       "      <th>3985</th>\n",
       "      <td>2</td>\n",
       "      <td>S9</td>\n",
       "      <td>0.032382</td>\n",
       "      <td>0.831298</td>\n",
       "      <td>0.014665</td>\n",
       "      <td>-0.034178</td>\n",
       "      <td>0.080198</td>\n",
       "      <td>-0.410517</td>\n",
       "      <td>0.0</td>\n",
       "      <td>0.0</td>\n",
       "      <td>0.000000</td>\n",
       "      <td>0.005968</td>\n",
       "      <td>0.014066</td>\n",
       "      <td>-0.002767</td>\n",
       "      <td>0.331698</td>\n",
       "      <td>3.361273</td>\n",
       "      <td>4.161047</td>\n",
       "      <td>0.124364</td>\n",
       "      <td>0.092434</td>\n",
       "      <td>34.567982</td>\n",
       "    </tr>\n",
       "    <tr>\n",
       "      <th>3986</th>\n",
       "      <td>2</td>\n",
       "      <td>S9</td>\n",
       "      <td>0.032171</td>\n",
       "      <td>0.831186</td>\n",
       "      <td>0.014491</td>\n",
       "      <td>-0.034163</td>\n",
       "      <td>0.079675</td>\n",
       "      <td>-0.410967</td>\n",
       "      <td>0.0</td>\n",
       "      <td>0.0</td>\n",
       "      <td>0.001670</td>\n",
       "      <td>0.004807</td>\n",
       "      <td>0.013933</td>\n",
       "      <td>-0.002916</td>\n",
       "      <td>0.331423</td>\n",
       "      <td>3.362539</td>\n",
       "      <td>4.168081</td>\n",
       "      <td>0.126483</td>\n",
       "      <td>0.092088</td>\n",
       "      <td>34.568642</td>\n",
       "    </tr>\n",
       "    <tr>\n",
       "      <th>3987</th>\n",
       "      <td>2</td>\n",
       "      <td>S9</td>\n",
       "      <td>0.032074</td>\n",
       "      <td>0.831180</td>\n",
       "      <td>0.014444</td>\n",
       "      <td>-0.034086</td>\n",
       "      <td>0.079402</td>\n",
       "      <td>-0.410923</td>\n",
       "      <td>0.0</td>\n",
       "      <td>0.0</td>\n",
       "      <td>0.000000</td>\n",
       "      <td>0.004123</td>\n",
       "      <td>0.013940</td>\n",
       "      <td>-0.002950</td>\n",
       "      <td>0.331760</td>\n",
       "      <td>3.362651</td>\n",
       "      <td>4.202277</td>\n",
       "      <td>0.123609</td>\n",
       "      <td>0.092556</td>\n",
       "      <td>34.568604</td>\n",
       "    </tr>\n",
       "    <tr>\n",
       "      <th>3988</th>\n",
       "      <td>2</td>\n",
       "      <td>S9</td>\n",
       "      <td>0.031907</td>\n",
       "      <td>0.831033</td>\n",
       "      <td>0.014430</td>\n",
       "      <td>-0.034009</td>\n",
       "      <td>0.078896</td>\n",
       "      <td>-0.411560</td>\n",
       "      <td>0.0</td>\n",
       "      <td>0.0</td>\n",
       "      <td>0.000000</td>\n",
       "      <td>0.003230</td>\n",
       "      <td>0.013781</td>\n",
       "      <td>-0.003036</td>\n",
       "      <td>0.332844</td>\n",
       "      <td>3.361878</td>\n",
       "      <td>4.170318</td>\n",
       "      <td>0.113463</td>\n",
       "      <td>0.093174</td>\n",
       "      <td>34.568058</td>\n",
       "    </tr>\n",
       "    <tr>\n",
       "      <th>3989</th>\n",
       "      <td>2</td>\n",
       "      <td>S9</td>\n",
       "      <td>0.031827</td>\n",
       "      <td>0.830930</td>\n",
       "      <td>0.014203</td>\n",
       "      <td>-0.034132</td>\n",
       "      <td>0.079164</td>\n",
       "      <td>-0.411685</td>\n",
       "      <td>0.0</td>\n",
       "      <td>0.0</td>\n",
       "      <td>0.000000</td>\n",
       "      <td>0.004712</td>\n",
       "      <td>0.013758</td>\n",
       "      <td>-0.003138</td>\n",
       "      <td>0.332795</td>\n",
       "      <td>3.363356</td>\n",
       "      <td>4.165493</td>\n",
       "      <td>0.120979</td>\n",
       "      <td>0.092742</td>\n",
       "      <td>34.568871</td>\n",
       "    </tr>\n",
       "  </tbody>\n",
       "</table>\n",
       "<p>3990 rows × 20 columns</p>\n",
       "</div>"
      ],
      "text/plain": [
       "      label subject  std_ACC_0  ...  mean_Resp  std_Temp  mean_Temp\n",
       "0         1     S10   0.021296  ...   0.089273  0.119035  34.289780\n",
       "1         1     S10   0.021247  ...   0.090474  0.118927  34.289845\n",
       "2         1     S10   0.021250  ...   0.095862  0.118357  34.290665\n",
       "3         1     S10   0.021252  ...   0.084665  0.118344  34.291039\n",
       "4         1     S10   0.021246  ...   0.085368  0.119123  34.291088\n",
       "...     ...     ...        ...  ...        ...       ...        ...\n",
       "3985      2      S9   0.032382  ...   0.124364  0.092434  34.567982\n",
       "3986      2      S9   0.032171  ...   0.126483  0.092088  34.568642\n",
       "3987      2      S9   0.032074  ...   0.123609  0.092556  34.568604\n",
       "3988      2      S9   0.031907  ...   0.113463  0.093174  34.568058\n",
       "3989      2      S9   0.031827  ...   0.120979  0.092742  34.568871\n",
       "\n",
       "[3990 rows x 20 columns]"
      ]
     },
     "execution_count": 9,
     "metadata": {},
     "output_type": "execute_result"
    }
   ],
   "source": [
    "df"
   ]
  },
  {
   "cell_type": "code",
   "execution_count": 10,
   "metadata": {},
   "outputs": [
    {
     "data": {
      "text/plain": [
       "subject  label\n",
       "S10      1        133\n",
       "         2        133\n",
       "S11      1        133\n",
       "         2        133\n",
       "S13      1        133\n",
       "         2        133\n",
       "S14      1        133\n",
       "         2        133\n",
       "S15      1        133\n",
       "         2        133\n",
       "S16      1        133\n",
       "         2        133\n",
       "S17      1        133\n",
       "         2        133\n",
       "S2       1        133\n",
       "         2        133\n",
       "S3       1        133\n",
       "         2        133\n",
       "S4       1        133\n",
       "         2        133\n",
       "S5       1        133\n",
       "         2        133\n",
       "S6       1        133\n",
       "         2        133\n",
       "S7       1        133\n",
       "         2        133\n",
       "S8       1        133\n",
       "         2        133\n",
       "S9       1        133\n",
       "         2        133\n",
       "dtype: int64"
      ]
     },
     "execution_count": 10,
     "metadata": {},
     "output_type": "execute_result"
    }
   ],
   "source": [
    "df.groupby(['subject','label']).size()"
   ]
  },
  {
   "cell_type": "code",
   "execution_count": 11,
   "metadata": {},
   "outputs": [
    {
     "data": {
      "text/plain": [
       "15"
      ]
     },
     "execution_count": 11,
     "metadata": {},
     "output_type": "execute_result"
    }
   ],
   "source": [
    "df.groupby(['subject']).size().size"
   ]
  },
  {
   "cell_type": "code",
   "execution_count": 12,
   "metadata": {},
   "outputs": [
    {
     "name": "stdout",
     "output_type": "stream",
     "text": [
      "shape of [subject,feature,labels] ((3990,), (3990, 18), (3990,))\n",
      "model accuracy:  0.5972\n",
      "              precision    recall  f1-score   support\n",
      "\n",
      "           1     0.6021    0.5734    0.5874      1995\n",
      "           2     0.5928    0.6211    0.6066      1995\n",
      "\n",
      "    accuracy                         0.5972      3990\n",
      "   macro avg     0.5975    0.5972    0.5970      3990\n",
      "weighted avg     0.5975    0.5972    0.5970      3990\n",
      "\n"
     ]
    }
   ],
   "source": [
    "from learn import Learn,LOGOEvaluate\n",
    "model = DecisionTreeClassifier(random_state=0)\n",
    "X = df\n",
    "y = df['label']\n",
    "learn = Learn(model,X,y)\n",
    "logo = LOGOEvaluate(learn)\n",
    "logo.test()"
   ]
  }
 ],
 "metadata": {
  "kernelspec": {
   "display_name": "Python 3",
   "language": "python",
   "name": "python3"
  },
  "language_info": {
   "codemirror_mode": {
    "name": "ipython",
    "version": 3
   },
   "file_extension": ".py",
   "mimetype": "text/x-python",
   "name": "python",
   "nbconvert_exporter": "python",
   "pygments_lexer": "ipython3",
   "version": "3.10.11"
  }
 },
 "nbformat": 4,
 "nbformat_minor": 2
}
