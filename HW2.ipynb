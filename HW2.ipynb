{
 "cells": [
  {
   "cell_type": "code",
   "execution_count": 1,
   "metadata": {},
   "outputs": [
    {
     "data": {
      "text/plain": [
       "<Figure size 1000x600 with 0 Axes>"
      ]
     },
     "metadata": {},
     "output_type": "display_data"
    }
   ],
   "source": [
    "from sklearn.tree import DecisionTreeClassifier\n",
    "from sklearn.ensemble import RandomForestClassifier,AdaBoostClassifier\n",
    "from sklearn.discriminant_analysis import LinearDiscriminantAnalysis\n",
    "from sklearn.neighbors import KNeighborsClassifier\n",
    "from learn import Learn\n",
    "from load import WESAD\n",
    "import pandas as pd"
   ]
  },
  {
   "cell_type": "code",
   "execution_count": 2,
   "metadata": {},
   "outputs": [
    {
     "name": "stdout",
     "output_type": "stream",
     "text": [
      "Finished building DataFrame\n"
     ]
    }
   ],
   "source": [
    "wesad = WESAD()"
   ]
  },
  {
   "cell_type": "markdown",
   "metadata": {},
   "source": [
    "### mutiT_feature_extraction 內部程式講解"
   ]
  },
  {
   "cell_type": "code",
   "execution_count": 3,
   "metadata": {},
   "outputs": [],
   "source": [
    "cols = ['label', 'subject', 'ACC_0', 'ACC_1', 'ACC_2', 'ECG', 'EMG', 'EDA', 'Resp', 'Temp']\n",
    "sample_n = 700 * 100\n",
    "signal = wesad.group(sample_n=sample_n)"
   ]
  },
  {
   "cell_type": "code",
   "execution_count": 4,
   "metadata": {},
   "outputs": [
    {
     "data": {
      "text/plain": [
       "15"
      ]
     },
     "execution_count": 4,
     "metadata": {},
     "output_type": "execute_result"
    }
   ],
   "source": [
    "subjects_len = len(wesad._subjects)\n",
    "subjects_len"
   ]
  },
  {
   "cell_type": "code",
   "execution_count": 5,
   "metadata": {},
   "outputs": [
    {
     "name": "stdout",
     "output_type": "stream",
     "text": [
      "2100000\n",
      "2100000\n"
     ]
    }
   ],
   "source": [
    "print(subjects_len*sample_n*2)\n",
    "print(signal.shape[0])"
   ]
  },
  {
   "cell_type": "code",
   "execution_count": 6,
   "metadata": {},
   "outputs": [],
   "source": [
    "# second = 100\n",
    "# rolling_windows = {key: wesad.rolling_window(signal[key],shift=1400,window_size=700*second) for key in cols}\n"
   ]
  },
  {
   "cell_type": "markdown",
   "metadata": {},
   "source": [
    "# 特徵提取"
   ]
  },
  {
   "cell_type": "code",
   "execution_count": 7,
   "metadata": {},
   "outputs": [
    {
     "name": "stdout",
     "output_type": "stream",
     "text": [
      "shape of df before filter 590\n",
      "shape of df after filter 329\n",
      "signal length: 329/329\n",
      "multi thread use 1 works\n",
      "........................................................................................................................................................................................................................................................................................................................................."
     ]
    }
   ],
   "source": [
    "df = wesad.mutiT_feature_extraction()"
   ]
  },
  {
   "cell_type": "code",
   "execution_count": 15,
   "metadata": {},
   "outputs": [
    {
     "data": {
      "text/plain": [
       "subject  label\n",
       "S10      1        11\n",
       "         2        11\n",
       "S11      1        11\n",
       "         2        11\n",
       "S13      1        11\n",
       "         2        11\n",
       "S14      1        11\n",
       "         2        11\n",
       "S15      1        11\n",
       "         2        11\n",
       "S16      1        11\n",
       "         2        11\n",
       "S17      1        11\n",
       "         2        11\n",
       "S2       1        11\n",
       "         2        11\n",
       "S3       1        11\n",
       "         2        11\n",
       "S4       1        11\n",
       "         2        11\n",
       "S5       1        11\n",
       "         2        11\n",
       "S6       1        11\n",
       "         2        11\n",
       "S7       1        11\n",
       "         2        11\n",
       "S8       1        11\n",
       "         2        11\n",
       "S9       1        11\n",
       "         2        10\n",
       "dtype: int64"
      ]
     },
     "execution_count": 15,
     "metadata": {},
     "output_type": "execute_result"
    }
   ],
   "source": [
    "df.groupby(['subject','label']).size()"
   ]
  },
  {
   "cell_type": "code",
   "execution_count": 18,
   "metadata": {},
   "outputs": [
    {
     "data": {
      "text/plain": [
       "15"
      ]
     },
     "execution_count": 18,
     "metadata": {},
     "output_type": "execute_result"
    }
   ],
   "source": [
    "df.groupby(['subject']).size().size"
   ]
  },
  {
   "cell_type": "code",
   "execution_count": 19,
   "metadata": {},
   "outputs": [
    {
     "name": "stdout",
     "output_type": "stream",
     "text": [
      "shape of [subject,feature,labels] ((329,), (329, 18), (329,))\n",
      "model accuracy:  0.7112\n",
      "              precision    recall  f1-score   support\n",
      "\n",
      "           1     0.7273    0.6788    0.7022       165\n",
      "           2     0.6971    0.7439    0.7198       164\n",
      "\n",
      "    accuracy                         0.7112       329\n",
      "   macro avg     0.7122    0.7113    0.7110       329\n",
      "weighted avg     0.7123    0.7112    0.7110       329\n",
      "\n"
     ]
    }
   ],
   "source": [
    "from learn import Learn,LOSOEvaluate\n",
    "model = DecisionTreeClassifier(random_state=0)\n",
    "X = df\n",
    "y = df['label']\n",
    "learn = Learn(model,X,y)\n",
    "loso = LOSOEvaluate(learn)\n",
    "loso.test()"
   ]
  }
 ],
 "metadata": {
  "kernelspec": {
   "display_name": "Python 3",
   "language": "python",
   "name": "python3"
  },
  "language_info": {
   "codemirror_mode": {
    "name": "ipython",
    "version": 3
   },
   "file_extension": ".py",
   "mimetype": "text/x-python",
   "name": "python",
   "nbconvert_exporter": "python",
   "pygments_lexer": "ipython3",
   "version": "3.10.11"
  }
 },
 "nbformat": 4,
 "nbformat_minor": 2
}
