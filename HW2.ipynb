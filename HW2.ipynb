{
 "cells": [
  {
   "cell_type": "code",
   "execution_count": 1,
   "metadata": {},
   "outputs": [
    {
     "data": {
      "text/plain": [
       "<Figure size 1000x600 with 0 Axes>"
      ]
     },
     "metadata": {},
     "output_type": "display_data"
    }
   ],
   "source": [
    "from sklearn.tree import DecisionTreeClassifier\n",
    "from sklearn.ensemble import RandomForestClassifier,AdaBoostClassifier\n",
    "from sklearn.discriminant_analysis import LinearDiscriminantAnalysis\n",
    "from sklearn.neighbors import KNeighborsClassifier\n",
    "from learn import Learn\n",
    "from load import WESAD\n",
    "import pandas as pd"
   ]
  },
  {
   "cell_type": "code",
   "execution_count": 2,
   "metadata": {},
   "outputs": [
    {
     "name": "stdout",
     "output_type": "stream",
     "text": [
      "Using ready-made DataFrame\n"
     ]
    }
   ],
   "source": [
    "wesad = WESAD()"
   ]
  },
  {
   "cell_type": "markdown",
   "metadata": {},
   "source": [
    "### mutiT_feature_extraction 內部程式講解"
   ]
  },
  {
   "cell_type": "code",
   "execution_count": 3,
   "metadata": {},
   "outputs": [],
   "source": [
    "cols = ['label', 'subject', 'ACC_0', 'ACC_1', 'ACC_2', 'ECG', 'EMG', 'EDA', 'Resp', 'Temp']\n",
    "sample_n = 700 * 100\n",
    "signal = wesad.group(sample_n=sample_n)"
   ]
  },
  {
   "cell_type": "code",
   "execution_count": 4,
   "metadata": {},
   "outputs": [
    {
     "data": {
      "text/plain": [
       "15"
      ]
     },
     "execution_count": 4,
     "metadata": {},
     "output_type": "execute_result"
    }
   ],
   "source": [
    "subjects_len = len(wesad._subjects)\n",
    "subjects_len"
   ]
  },
  {
   "cell_type": "code",
   "execution_count": 5,
   "metadata": {},
   "outputs": [
    {
     "name": "stdout",
     "output_type": "stream",
     "text": [
      "2100000\n",
      "2100000\n"
     ]
    }
   ],
   "source": [
    "print(subjects_len*sample_n*2)\n",
    "print(signal.shape[0])"
   ]
  },
  {
   "cell_type": "code",
   "execution_count": 6,
   "metadata": {},
   "outputs": [],
   "source": [
    "# second = 100\n",
    "# rolling_windows = {key: wesad.rolling_window(signal[key],shift=1400,window_size=700*second) for key in cols}\n"
   ]
  },
  {
   "cell_type": "markdown",
   "metadata": {},
   "source": [
    "# 特徵提取"
   ]
  },
  {
   "cell_type": "code",
   "execution_count": 7,
   "metadata": {},
   "outputs": [],
   "source": [
    "# wesad._subjects"
   ]
  },
  {
   "cell_type": "code",
   "execution_count": 8,
   "metadata": {},
   "outputs": [],
   "source": [
    "# pd.Series(['S10','S10','S9']).value_counts().idxmax()"
   ]
  },
  {
   "cell_type": "code",
   "execution_count": 9,
   "metadata": {},
   "outputs": [],
   "source": [
    "df = wesad.feature_extraction()"
   ]
  },
  {
   "cell_type": "code",
   "execution_count": 10,
   "metadata": {},
   "outputs": [
    {
     "data": {
      "text/html": [
       "<div>\n",
       "<style scoped>\n",
       "    .dataframe tbody tr th:only-of-type {\n",
       "        vertical-align: middle;\n",
       "    }\n",
       "\n",
       "    .dataframe tbody tr th {\n",
       "        vertical-align: top;\n",
       "    }\n",
       "\n",
       "    .dataframe thead th {\n",
       "        text-align: right;\n",
       "    }\n",
       "</style>\n",
       "<table border=\"1\" class=\"dataframe\">\n",
       "  <thead>\n",
       "    <tr style=\"text-align: right;\">\n",
       "      <th></th>\n",
       "      <th>label</th>\n",
       "      <th>subject</th>\n",
       "      <th>std_ACC_0</th>\n",
       "      <th>mean_ACC_0</th>\n",
       "      <th>std_ACC_1</th>\n",
       "      <th>mean_ACC_1</th>\n",
       "      <th>std_ACC_2</th>\n",
       "      <th>mean_ACC_2</th>\n",
       "      <th>ECG_ULF</th>\n",
       "      <th>ECG_LF</th>\n",
       "      <th>ECG_HF</th>\n",
       "      <th>std_EMG</th>\n",
       "      <th>mean_EMG</th>\n",
       "      <th>std_EDA</th>\n",
       "      <th>mean_EDA</th>\n",
       "      <th>std_Resp</th>\n",
       "      <th>mean_Resp</th>\n",
       "      <th>std_Temp</th>\n",
       "      <th>mean_Temp</th>\n",
       "    </tr>\n",
       "  </thead>\n",
       "  <tbody>\n",
       "    <tr>\n",
       "      <th>0</th>\n",
       "      <td>1</td>\n",
       "      <td>S10</td>\n",
       "      <td>0.021531</td>\n",
       "      <td>0.889508</td>\n",
       "      <td>0.062998</td>\n",
       "      <td>0.020890</td>\n",
       "      <td>0.201047</td>\n",
       "      <td>-0.040304</td>\n",
       "      <td>{'ULF': 0.0, 'LF': 0.0, 'HF': 0.0, 'UHF': 0.00...</td>\n",
       "      <td>[0.0, 0.21052631578947367, 0.42105263157894735...</td>\n",
       "      <td>[0.008115022879975684, 0.012834341142877851, 0...</td>\n",
       "      <td>0.009959</td>\n",
       "      <td>-0.002452</td>\n",
       "      <td>0.030619</td>\n",
       "      <td>0.787617</td>\n",
       "      <td>2.591194</td>\n",
       "      <td>0.041304</td>\n",
       "      <td>0.119121</td>\n",
       "      <td>34.289711</td>\n",
       "    </tr>\n",
       "    <tr>\n",
       "      <th>1</th>\n",
       "      <td>1</td>\n",
       "      <td>S10</td>\n",
       "      <td>0.021412</td>\n",
       "      <td>0.889344</td>\n",
       "      <td>0.063288</td>\n",
       "      <td>0.020768</td>\n",
       "      <td>0.201707</td>\n",
       "      <td>-0.041192</td>\n",
       "      <td>{'ULF': 0.0, 'LF': 0.0, 'HF': 0.0, 'UHF': 0.00...</td>\n",
       "      <td>[0.0, 0.21052631578947367, 0.42105263157894735...</td>\n",
       "      <td>[0.0011889901359861093, 0.003070743762035594, ...</td>\n",
       "      <td>0.009928</td>\n",
       "      <td>-0.002400</td>\n",
       "      <td>0.030650</td>\n",
       "      <td>0.787498</td>\n",
       "      <td>2.592929</td>\n",
       "      <td>0.031163</td>\n",
       "      <td>0.118305</td>\n",
       "      <td>34.289890</td>\n",
       "    </tr>\n",
       "    <tr>\n",
       "      <th>2</th>\n",
       "      <td>1</td>\n",
       "      <td>S10</td>\n",
       "      <td>0.021409</td>\n",
       "      <td>0.889378</td>\n",
       "      <td>0.063280</td>\n",
       "      <td>0.020833</td>\n",
       "      <td>0.201727</td>\n",
       "      <td>-0.041582</td>\n",
       "      <td>{'ULF': 0.0, 'LF': 0.0, 'HF': 0.0, 'UHF': 0.00...</td>\n",
       "      <td>[0.0, 0.2222222222222222, 0.4444444444444444, ...</td>\n",
       "      <td>[0.0016912630914313323, 0.0022821544510020753,...</td>\n",
       "      <td>0.010014</td>\n",
       "      <td>-0.002364</td>\n",
       "      <td>0.030548</td>\n",
       "      <td>0.787433</td>\n",
       "      <td>2.584603</td>\n",
       "      <td>0.026986</td>\n",
       "      <td>0.117982</td>\n",
       "      <td>34.289982</td>\n",
       "    </tr>\n",
       "    <tr>\n",
       "      <th>3</th>\n",
       "      <td>1</td>\n",
       "      <td>S10</td>\n",
       "      <td>0.021207</td>\n",
       "      <td>0.889464</td>\n",
       "      <td>0.063239</td>\n",
       "      <td>0.020837</td>\n",
       "      <td>0.201338</td>\n",
       "      <td>-0.040509</td>\n",
       "      <td>{'ULF': 0.0, 'LF': 0.0, 'HF': 0.0, 'UHF': 0.00...</td>\n",
       "      <td>[0.0, 0.21052631578947367, 0.42105263157894735...</td>\n",
       "      <td>[0.0035489911141420565, 0.004918656853328651, ...</td>\n",
       "      <td>0.009984</td>\n",
       "      <td>-0.002343</td>\n",
       "      <td>0.030624</td>\n",
       "      <td>0.787406</td>\n",
       "      <td>2.589407</td>\n",
       "      <td>0.034509</td>\n",
       "      <td>0.118472</td>\n",
       "      <td>34.289738</td>\n",
       "    </tr>\n",
       "    <tr>\n",
       "      <th>4</th>\n",
       "      <td>1</td>\n",
       "      <td>S10</td>\n",
       "      <td>0.021236</td>\n",
       "      <td>0.889438</td>\n",
       "      <td>0.063331</td>\n",
       "      <td>0.020788</td>\n",
       "      <td>0.201251</td>\n",
       "      <td>-0.040486</td>\n",
       "      <td>{'ULF': 0.0, 'LF': 0.0, 'HF': 0.0, 'UHF': 0.00...</td>\n",
       "      <td>[0.0, 0.21052631578947367, 0.42105263157894735...</td>\n",
       "      <td>[0.00034013076070211595, 0.0009312250063336073...</td>\n",
       "      <td>0.010051</td>\n",
       "      <td>-0.002325</td>\n",
       "      <td>0.030405</td>\n",
       "      <td>0.787486</td>\n",
       "      <td>2.605338</td>\n",
       "      <td>0.041598</td>\n",
       "      <td>0.117666</td>\n",
       "      <td>34.291294</td>\n",
       "    </tr>\n",
       "    <tr>\n",
       "      <th>...</th>\n",
       "      <td>...</td>\n",
       "      <td>...</td>\n",
       "      <td>...</td>\n",
       "      <td>...</td>\n",
       "      <td>...</td>\n",
       "      <td>...</td>\n",
       "      <td>...</td>\n",
       "      <td>...</td>\n",
       "      <td>...</td>\n",
       "      <td>...</td>\n",
       "      <td>...</td>\n",
       "      <td>...</td>\n",
       "      <td>...</td>\n",
       "      <td>...</td>\n",
       "      <td>...</td>\n",
       "      <td>...</td>\n",
       "      <td>...</td>\n",
       "      <td>...</td>\n",
       "      <td>...</td>\n",
       "    </tr>\n",
       "    <tr>\n",
       "      <th>585</th>\n",
       "      <td>2</td>\n",
       "      <td>S9</td>\n",
       "      <td>0.031958</td>\n",
       "      <td>0.830714</td>\n",
       "      <td>0.014129</td>\n",
       "      <td>-0.034155</td>\n",
       "      <td>0.079107</td>\n",
       "      <td>-0.412172</td>\n",
       "      <td>{'ULF': 0.0, 'LF': 0.0, 'HF': 0.0, 'UHF': 0.00...</td>\n",
       "      <td>[0.0, 0.21052631578947367, 0.42105263157894735...</td>\n",
       "      <td>[0.09367676306169526, 0.06382661038498054, 0.0...</td>\n",
       "      <td>0.014235</td>\n",
       "      <td>-0.002965</td>\n",
       "      <td>0.332286</td>\n",
       "      <td>3.362790</td>\n",
       "      <td>4.117498</td>\n",
       "      <td>0.034239</td>\n",
       "      <td>0.091262</td>\n",
       "      <td>34.568874</td>\n",
       "    </tr>\n",
       "    <tr>\n",
       "      <th>586</th>\n",
       "      <td>2</td>\n",
       "      <td>S9</td>\n",
       "      <td>0.031629</td>\n",
       "      <td>0.830562</td>\n",
       "      <td>0.013925</td>\n",
       "      <td>-0.034133</td>\n",
       "      <td>0.078429</td>\n",
       "      <td>-0.412538</td>\n",
       "      <td>{'ULF': 0.0, 'LF': 0.0, 'HF': 0.00606165398542...</td>\n",
       "      <td>[0.0, 0.2, 0.4, 0.6000000000000001, 0.8, 1.0, ...</td>\n",
       "      <td>[0.008405223147167134, 0.03109508635215554, 0....</td>\n",
       "      <td>0.014106</td>\n",
       "      <td>-0.002940</td>\n",
       "      <td>0.332424</td>\n",
       "      <td>3.360666</td>\n",
       "      <td>4.117212</td>\n",
       "      <td>0.002024</td>\n",
       "      <td>0.091577</td>\n",
       "      <td>34.568089</td>\n",
       "    </tr>\n",
       "    <tr>\n",
       "      <th>587</th>\n",
       "      <td>2</td>\n",
       "      <td>S9</td>\n",
       "      <td>0.031652</td>\n",
       "      <td>0.830557</td>\n",
       "      <td>0.013946</td>\n",
       "      <td>-0.034092</td>\n",
       "      <td>0.078490</td>\n",
       "      <td>-0.412497</td>\n",
       "      <td>{'ULF': 0.0, 'LF': 0.0, 'HF': 0.00436871791974...</td>\n",
       "      <td>[0.0, 0.2, 0.4, 0.6000000000000001, 0.8, 1.0, ...</td>\n",
       "      <td>[0.006658418881402263, 0.024990315781988796, 0...</td>\n",
       "      <td>0.014024</td>\n",
       "      <td>-0.002850</td>\n",
       "      <td>0.332587</td>\n",
       "      <td>3.363108</td>\n",
       "      <td>4.143625</td>\n",
       "      <td>0.033876</td>\n",
       "      <td>0.091750</td>\n",
       "      <td>34.568401</td>\n",
       "    </tr>\n",
       "    <tr>\n",
       "      <th>588</th>\n",
       "      <td>2</td>\n",
       "      <td>S9</td>\n",
       "      <td>0.031832</td>\n",
       "      <td>0.830532</td>\n",
       "      <td>0.013934</td>\n",
       "      <td>-0.034048</td>\n",
       "      <td>0.078606</td>\n",
       "      <td>-0.412625</td>\n",
       "      <td>{'ULF': 0.0, 'LF': 0.0, 'HF': 0.01234701952269...</td>\n",
       "      <td>[0.0, 0.2, 0.4, 0.6000000000000001, 0.8, 1.0, ...</td>\n",
       "      <td>[0.12260749462865338, 0.09400466804261959, 0.0...</td>\n",
       "      <td>0.014177</td>\n",
       "      <td>-0.002904</td>\n",
       "      <td>0.334073</td>\n",
       "      <td>3.364354</td>\n",
       "      <td>4.133471</td>\n",
       "      <td>-0.011360</td>\n",
       "      <td>0.092195</td>\n",
       "      <td>34.568352</td>\n",
       "    </tr>\n",
       "    <tr>\n",
       "      <th>589</th>\n",
       "      <td>2</td>\n",
       "      <td>S9</td>\n",
       "      <td>0.031594</td>\n",
       "      <td>0.830375</td>\n",
       "      <td>0.013730</td>\n",
       "      <td>-0.034111</td>\n",
       "      <td>0.078014</td>\n",
       "      <td>-0.413185</td>\n",
       "      <td>{'ULF': 0.0, 'LF': 0.0, 'HF': 0.0, 'UHF': 0.00...</td>\n",
       "      <td>[0.0, 0.21052631578947367, 0.42105263157894735...</td>\n",
       "      <td>[0.021548381050812984, 0.05021145050032318, 0....</td>\n",
       "      <td>0.014100</td>\n",
       "      <td>-0.002938</td>\n",
       "      <td>0.334627</td>\n",
       "      <td>3.364179</td>\n",
       "      <td>4.135221</td>\n",
       "      <td>-0.030062</td>\n",
       "      <td>0.091953</td>\n",
       "      <td>34.568565</td>\n",
       "    </tr>\n",
       "  </tbody>\n",
       "</table>\n",
       "<p>590 rows × 19 columns</p>\n",
       "</div>"
      ],
      "text/plain": [
       "     label subject  std_ACC_0  mean_ACC_0  std_ACC_1  mean_ACC_1  std_ACC_2  \\\n",
       "0        1     S10   0.021531    0.889508   0.062998    0.020890   0.201047   \n",
       "1        1     S10   0.021412    0.889344   0.063288    0.020768   0.201707   \n",
       "2        1     S10   0.021409    0.889378   0.063280    0.020833   0.201727   \n",
       "3        1     S10   0.021207    0.889464   0.063239    0.020837   0.201338   \n",
       "4        1     S10   0.021236    0.889438   0.063331    0.020788   0.201251   \n",
       "..     ...     ...        ...         ...        ...         ...        ...   \n",
       "585      2      S9   0.031958    0.830714   0.014129   -0.034155   0.079107   \n",
       "586      2      S9   0.031629    0.830562   0.013925   -0.034133   0.078429   \n",
       "587      2      S9   0.031652    0.830557   0.013946   -0.034092   0.078490   \n",
       "588      2      S9   0.031832    0.830532   0.013934   -0.034048   0.078606   \n",
       "589      2      S9   0.031594    0.830375   0.013730   -0.034111   0.078014   \n",
       "\n",
       "     mean_ACC_2                                            ECG_ULF  \\\n",
       "0     -0.040304  {'ULF': 0.0, 'LF': 0.0, 'HF': 0.0, 'UHF': 0.00...   \n",
       "1     -0.041192  {'ULF': 0.0, 'LF': 0.0, 'HF': 0.0, 'UHF': 0.00...   \n",
       "2     -0.041582  {'ULF': 0.0, 'LF': 0.0, 'HF': 0.0, 'UHF': 0.00...   \n",
       "3     -0.040509  {'ULF': 0.0, 'LF': 0.0, 'HF': 0.0, 'UHF': 0.00...   \n",
       "4     -0.040486  {'ULF': 0.0, 'LF': 0.0, 'HF': 0.0, 'UHF': 0.00...   \n",
       "..          ...                                                ...   \n",
       "585   -0.412172  {'ULF': 0.0, 'LF': 0.0, 'HF': 0.0, 'UHF': 0.00...   \n",
       "586   -0.412538  {'ULF': 0.0, 'LF': 0.0, 'HF': 0.00606165398542...   \n",
       "587   -0.412497  {'ULF': 0.0, 'LF': 0.0, 'HF': 0.00436871791974...   \n",
       "588   -0.412625  {'ULF': 0.0, 'LF': 0.0, 'HF': 0.01234701952269...   \n",
       "589   -0.413185  {'ULF': 0.0, 'LF': 0.0, 'HF': 0.0, 'UHF': 0.00...   \n",
       "\n",
       "                                                ECG_LF  \\\n",
       "0    [0.0, 0.21052631578947367, 0.42105263157894735...   \n",
       "1    [0.0, 0.21052631578947367, 0.42105263157894735...   \n",
       "2    [0.0, 0.2222222222222222, 0.4444444444444444, ...   \n",
       "3    [0.0, 0.21052631578947367, 0.42105263157894735...   \n",
       "4    [0.0, 0.21052631578947367, 0.42105263157894735...   \n",
       "..                                                 ...   \n",
       "585  [0.0, 0.21052631578947367, 0.42105263157894735...   \n",
       "586  [0.0, 0.2, 0.4, 0.6000000000000001, 0.8, 1.0, ...   \n",
       "587  [0.0, 0.2, 0.4, 0.6000000000000001, 0.8, 1.0, ...   \n",
       "588  [0.0, 0.2, 0.4, 0.6000000000000001, 0.8, 1.0, ...   \n",
       "589  [0.0, 0.21052631578947367, 0.42105263157894735...   \n",
       "\n",
       "                                                ECG_HF   std_EMG  mean_EMG  \\\n",
       "0    [0.008115022879975684, 0.012834341142877851, 0...  0.009959 -0.002452   \n",
       "1    [0.0011889901359861093, 0.003070743762035594, ...  0.009928 -0.002400   \n",
       "2    [0.0016912630914313323, 0.0022821544510020753,...  0.010014 -0.002364   \n",
       "3    [0.0035489911141420565, 0.004918656853328651, ...  0.009984 -0.002343   \n",
       "4    [0.00034013076070211595, 0.0009312250063336073...  0.010051 -0.002325   \n",
       "..                                                 ...       ...       ...   \n",
       "585  [0.09367676306169526, 0.06382661038498054, 0.0...  0.014235 -0.002965   \n",
       "586  [0.008405223147167134, 0.03109508635215554, 0....  0.014106 -0.002940   \n",
       "587  [0.006658418881402263, 0.024990315781988796, 0...  0.014024 -0.002850   \n",
       "588  [0.12260749462865338, 0.09400466804261959, 0.0...  0.014177 -0.002904   \n",
       "589  [0.021548381050812984, 0.05021145050032318, 0....  0.014100 -0.002938   \n",
       "\n",
       "      std_EDA  mean_EDA  std_Resp  mean_Resp  std_Temp  mean_Temp  \n",
       "0    0.030619  0.787617  2.591194   0.041304  0.119121  34.289711  \n",
       "1    0.030650  0.787498  2.592929   0.031163  0.118305  34.289890  \n",
       "2    0.030548  0.787433  2.584603   0.026986  0.117982  34.289982  \n",
       "3    0.030624  0.787406  2.589407   0.034509  0.118472  34.289738  \n",
       "4    0.030405  0.787486  2.605338   0.041598  0.117666  34.291294  \n",
       "..        ...       ...       ...        ...       ...        ...  \n",
       "585  0.332286  3.362790  4.117498   0.034239  0.091262  34.568874  \n",
       "586  0.332424  3.360666  4.117212   0.002024  0.091577  34.568089  \n",
       "587  0.332587  3.363108  4.143625   0.033876  0.091750  34.568401  \n",
       "588  0.334073  3.364354  4.133471  -0.011360  0.092195  34.568352  \n",
       "589  0.334627  3.364179  4.135221  -0.030062  0.091953  34.568565  \n",
       "\n",
       "[590 rows x 19 columns]"
      ]
     },
     "execution_count": 10,
     "metadata": {},
     "output_type": "execute_result"
    }
   ],
   "source": [
    "df"
   ]
  },
  {
   "cell_type": "code",
   "execution_count": 11,
   "metadata": {},
   "outputs": [
    {
     "data": {
      "text/plain": [
       "subject  label\n",
       "S10      1        15\n",
       "         2        20\n",
       "S11      1        20\n",
       "         2        20\n",
       "S13      1        20\n",
       "         2        20\n",
       "S14      1        20\n",
       "         2        20\n",
       "S15      1        20\n",
       "         2        20\n",
       "S16      1        20\n",
       "         2        20\n",
       "S17      1        20\n",
       "         2        20\n",
       "S2       1        20\n",
       "         2        20\n",
       "S3       1        20\n",
       "         2        20\n",
       "S4       1        20\n",
       "         2        20\n",
       "S5       1        20\n",
       "         2        20\n",
       "S6       1        20\n",
       "         2        20\n",
       "S7       1        20\n",
       "         2        20\n",
       "S8       1        20\n",
       "         2        20\n",
       "S9       1        20\n",
       "         2        15\n",
       "dtype: int64"
      ]
     },
     "execution_count": 11,
     "metadata": {},
     "output_type": "execute_result"
    }
   ],
   "source": [
    "df.groupby(['subject','label']).size()"
   ]
  },
  {
   "cell_type": "code",
   "execution_count": 12,
   "metadata": {},
   "outputs": [
    {
     "data": {
      "text/plain": [
       "15"
      ]
     },
     "execution_count": 12,
     "metadata": {},
     "output_type": "execute_result"
    }
   ],
   "source": [
    "df.groupby(['subject']).size().size"
   ]
  },
  {
   "cell_type": "code",
   "execution_count": 13,
   "metadata": {},
   "outputs": [
    {
     "ename": "TypeError",
     "evalue": "float() argument must be a string or a real number, not 'dict'",
     "output_type": "error",
     "traceback": [
      "\u001b[1;31m---------------------------------------------------------------------------\u001b[0m",
      "\u001b[1;31mTypeError\u001b[0m                                 Traceback (most recent call last)",
      "Cell \u001b[1;32mIn[13], line 5\u001b[0m\n\u001b[0;32m      3\u001b[0m X \u001b[38;5;241m=\u001b[39m df\n\u001b[0;32m      4\u001b[0m y \u001b[38;5;241m=\u001b[39m df[\u001b[38;5;124m'\u001b[39m\u001b[38;5;124mlabel\u001b[39m\u001b[38;5;124m'\u001b[39m]\n\u001b[1;32m----> 5\u001b[0m learn \u001b[38;5;241m=\u001b[39m \u001b[43mLearn\u001b[49m\u001b[43m(\u001b[49m\u001b[43mmodel\u001b[49m\u001b[43m,\u001b[49m\u001b[43mX\u001b[49m\u001b[43m,\u001b[49m\u001b[43my\u001b[49m\u001b[43m)\u001b[49m\n\u001b[0;32m      6\u001b[0m loso \u001b[38;5;241m=\u001b[39m LOSOEvaluate(learn)\n\u001b[0;32m      7\u001b[0m loso\u001b[38;5;241m.\u001b[39mtest()\n",
      "File \u001b[1;32md:\\_study\\DataScience\\EdgeAI\\learn.py:17\u001b[0m, in \u001b[0;36mLearn.__init__\u001b[1;34m(self, clf, X, y)\u001b[0m\n\u001b[0;32m     15\u001b[0m \u001b[38;5;28mself\u001b[39m\u001b[38;5;241m.\u001b[39mX_train, \u001b[38;5;28mself\u001b[39m\u001b[38;5;241m.\u001b[39mX_test, \u001b[38;5;28mself\u001b[39m\u001b[38;5;241m.\u001b[39my_train, \u001b[38;5;28mself\u001b[39m\u001b[38;5;241m.\u001b[39my_test \u001b[38;5;241m=\u001b[39m train_test_split(\u001b[38;5;28mself\u001b[39m\u001b[38;5;241m.\u001b[39mX, \u001b[38;5;28mself\u001b[39m\u001b[38;5;241m.\u001b[39my, test_size\u001b[38;5;241m=\u001b[39m\u001b[38;5;241m0.3\u001b[39m, random_state\u001b[38;5;241m=\u001b[39m\u001b[38;5;241m42\u001b[39m)\n\u001b[0;32m     16\u001b[0m \u001b[38;5;28mself\u001b[39m\u001b[38;5;241m.\u001b[39m_clf \u001b[38;5;241m=\u001b[39m clf\n\u001b[1;32m---> 17\u001b[0m \u001b[38;5;28mself\u001b[39m\u001b[38;5;241m.\u001b[39mmodel \u001b[38;5;241m=\u001b[39m \u001b[43mclf\u001b[49m\u001b[38;5;241;43m.\u001b[39;49m\u001b[43mfit\u001b[49m\u001b[43m(\u001b[49m\u001b[38;5;28;43mself\u001b[39;49m\u001b[38;5;241;43m.\u001b[39;49m\u001b[43mX_train\u001b[49m\u001b[43m,\u001b[49m\u001b[38;5;28;43mself\u001b[39;49m\u001b[38;5;241;43m.\u001b[39;49m\u001b[43my_train\u001b[49m\u001b[43m)\u001b[49m\n",
      "File \u001b[1;32m~\\AppData\\Local\\Packages\\PythonSoftwareFoundation.Python.3.10_qbz5n2kfra8p0\\LocalCache\\local-packages\\Python310\\site-packages\\sklearn\\base.py:1151\u001b[0m, in \u001b[0;36m_fit_context.<locals>.decorator.<locals>.wrapper\u001b[1;34m(estimator, *args, **kwargs)\u001b[0m\n\u001b[0;32m   1144\u001b[0m     estimator\u001b[38;5;241m.\u001b[39m_validate_params()\n\u001b[0;32m   1146\u001b[0m \u001b[38;5;28;01mwith\u001b[39;00m config_context(\n\u001b[0;32m   1147\u001b[0m     skip_parameter_validation\u001b[38;5;241m=\u001b[39m(\n\u001b[0;32m   1148\u001b[0m         prefer_skip_nested_validation \u001b[38;5;129;01mor\u001b[39;00m global_skip_validation\n\u001b[0;32m   1149\u001b[0m     )\n\u001b[0;32m   1150\u001b[0m ):\n\u001b[1;32m-> 1151\u001b[0m     \u001b[38;5;28;01mreturn\u001b[39;00m fit_method(estimator, \u001b[38;5;241m*\u001b[39margs, \u001b[38;5;241m*\u001b[39m\u001b[38;5;241m*\u001b[39mkwargs)\n",
      "File \u001b[1;32m~\\AppData\\Local\\Packages\\PythonSoftwareFoundation.Python.3.10_qbz5n2kfra8p0\\LocalCache\\local-packages\\Python310\\site-packages\\sklearn\\tree\\_classes.py:959\u001b[0m, in \u001b[0;36mDecisionTreeClassifier.fit\u001b[1;34m(self, X, y, sample_weight, check_input)\u001b[0m\n\u001b[0;32m    928\u001b[0m \u001b[38;5;129m@_fit_context\u001b[39m(prefer_skip_nested_validation\u001b[38;5;241m=\u001b[39m\u001b[38;5;28;01mTrue\u001b[39;00m)\n\u001b[0;32m    929\u001b[0m \u001b[38;5;28;01mdef\u001b[39;00m \u001b[38;5;21mfit\u001b[39m(\u001b[38;5;28mself\u001b[39m, X, y, sample_weight\u001b[38;5;241m=\u001b[39m\u001b[38;5;28;01mNone\u001b[39;00m, check_input\u001b[38;5;241m=\u001b[39m\u001b[38;5;28;01mTrue\u001b[39;00m):\n\u001b[0;32m    930\u001b[0m \u001b[38;5;250m    \u001b[39m\u001b[38;5;124;03m\"\"\"Build a decision tree classifier from the training set (X, y).\u001b[39;00m\n\u001b[0;32m    931\u001b[0m \n\u001b[0;32m    932\u001b[0m \u001b[38;5;124;03m    Parameters\u001b[39;00m\n\u001b[1;32m   (...)\u001b[0m\n\u001b[0;32m    956\u001b[0m \u001b[38;5;124;03m        Fitted estimator.\u001b[39;00m\n\u001b[0;32m    957\u001b[0m \u001b[38;5;124;03m    \"\"\"\u001b[39;00m\n\u001b[1;32m--> 959\u001b[0m     \u001b[38;5;28;43msuper\u001b[39;49m\u001b[43m(\u001b[49m\u001b[43m)\u001b[49m\u001b[38;5;241;43m.\u001b[39;49m\u001b[43m_fit\u001b[49m\u001b[43m(\u001b[49m\n\u001b[0;32m    960\u001b[0m \u001b[43m        \u001b[49m\u001b[43mX\u001b[49m\u001b[43m,\u001b[49m\n\u001b[0;32m    961\u001b[0m \u001b[43m        \u001b[49m\u001b[43my\u001b[49m\u001b[43m,\u001b[49m\n\u001b[0;32m    962\u001b[0m \u001b[43m        \u001b[49m\u001b[43msample_weight\u001b[49m\u001b[38;5;241;43m=\u001b[39;49m\u001b[43msample_weight\u001b[49m\u001b[43m,\u001b[49m\n\u001b[0;32m    963\u001b[0m \u001b[43m        \u001b[49m\u001b[43mcheck_input\u001b[49m\u001b[38;5;241;43m=\u001b[39;49m\u001b[43mcheck_input\u001b[49m\u001b[43m,\u001b[49m\n\u001b[0;32m    964\u001b[0m \u001b[43m    \u001b[49m\u001b[43m)\u001b[49m\n\u001b[0;32m    965\u001b[0m     \u001b[38;5;28;01mreturn\u001b[39;00m \u001b[38;5;28mself\u001b[39m\n",
      "File \u001b[1;32m~\\AppData\\Local\\Packages\\PythonSoftwareFoundation.Python.3.10_qbz5n2kfra8p0\\LocalCache\\local-packages\\Python310\\site-packages\\sklearn\\tree\\_classes.py:242\u001b[0m, in \u001b[0;36mBaseDecisionTree._fit\u001b[1;34m(self, X, y, sample_weight, check_input, missing_values_in_feature_mask)\u001b[0m\n\u001b[0;32m    238\u001b[0m check_X_params \u001b[38;5;241m=\u001b[39m \u001b[38;5;28mdict\u001b[39m(\n\u001b[0;32m    239\u001b[0m     dtype\u001b[38;5;241m=\u001b[39mDTYPE, accept_sparse\u001b[38;5;241m=\u001b[39m\u001b[38;5;124m\"\u001b[39m\u001b[38;5;124mcsc\u001b[39m\u001b[38;5;124m\"\u001b[39m, force_all_finite\u001b[38;5;241m=\u001b[39m\u001b[38;5;28;01mFalse\u001b[39;00m\n\u001b[0;32m    240\u001b[0m )\n\u001b[0;32m    241\u001b[0m check_y_params \u001b[38;5;241m=\u001b[39m \u001b[38;5;28mdict\u001b[39m(ensure_2d\u001b[38;5;241m=\u001b[39m\u001b[38;5;28;01mFalse\u001b[39;00m, dtype\u001b[38;5;241m=\u001b[39m\u001b[38;5;28;01mNone\u001b[39;00m)\n\u001b[1;32m--> 242\u001b[0m X, y \u001b[38;5;241m=\u001b[39m \u001b[38;5;28;43mself\u001b[39;49m\u001b[38;5;241;43m.\u001b[39;49m\u001b[43m_validate_data\u001b[49m\u001b[43m(\u001b[49m\n\u001b[0;32m    243\u001b[0m \u001b[43m    \u001b[49m\u001b[43mX\u001b[49m\u001b[43m,\u001b[49m\u001b[43m \u001b[49m\u001b[43my\u001b[49m\u001b[43m,\u001b[49m\u001b[43m \u001b[49m\u001b[43mvalidate_separately\u001b[49m\u001b[38;5;241;43m=\u001b[39;49m\u001b[43m(\u001b[49m\u001b[43mcheck_X_params\u001b[49m\u001b[43m,\u001b[49m\u001b[43m \u001b[49m\u001b[43mcheck_y_params\u001b[49m\u001b[43m)\u001b[49m\n\u001b[0;32m    244\u001b[0m \u001b[43m\u001b[49m\u001b[43m)\u001b[49m\n\u001b[0;32m    246\u001b[0m missing_values_in_feature_mask \u001b[38;5;241m=\u001b[39m (\n\u001b[0;32m    247\u001b[0m     \u001b[38;5;28mself\u001b[39m\u001b[38;5;241m.\u001b[39m_compute_missing_values_in_feature_mask(X)\n\u001b[0;32m    248\u001b[0m )\n\u001b[0;32m    249\u001b[0m \u001b[38;5;28;01mif\u001b[39;00m issparse(X):\n",
      "File \u001b[1;32m~\\AppData\\Local\\Packages\\PythonSoftwareFoundation.Python.3.10_qbz5n2kfra8p0\\LocalCache\\local-packages\\Python310\\site-packages\\sklearn\\base.py:616\u001b[0m, in \u001b[0;36mBaseEstimator._validate_data\u001b[1;34m(self, X, y, reset, validate_separately, cast_to_ndarray, **check_params)\u001b[0m\n\u001b[0;32m    614\u001b[0m \u001b[38;5;28;01mif\u001b[39;00m \u001b[38;5;124m\"\u001b[39m\u001b[38;5;124mestimator\u001b[39m\u001b[38;5;124m\"\u001b[39m \u001b[38;5;129;01mnot\u001b[39;00m \u001b[38;5;129;01min\u001b[39;00m check_X_params:\n\u001b[0;32m    615\u001b[0m     check_X_params \u001b[38;5;241m=\u001b[39m {\u001b[38;5;241m*\u001b[39m\u001b[38;5;241m*\u001b[39mdefault_check_params, \u001b[38;5;241m*\u001b[39m\u001b[38;5;241m*\u001b[39mcheck_X_params}\n\u001b[1;32m--> 616\u001b[0m X \u001b[38;5;241m=\u001b[39m check_array(X, input_name\u001b[38;5;241m=\u001b[39m\u001b[38;5;124m\"\u001b[39m\u001b[38;5;124mX\u001b[39m\u001b[38;5;124m\"\u001b[39m, \u001b[38;5;241m*\u001b[39m\u001b[38;5;241m*\u001b[39mcheck_X_params)\n\u001b[0;32m    617\u001b[0m \u001b[38;5;28;01mif\u001b[39;00m \u001b[38;5;124m\"\u001b[39m\u001b[38;5;124mestimator\u001b[39m\u001b[38;5;124m\"\u001b[39m \u001b[38;5;129;01mnot\u001b[39;00m \u001b[38;5;129;01min\u001b[39;00m check_y_params:\n\u001b[0;32m    618\u001b[0m     check_y_params \u001b[38;5;241m=\u001b[39m {\u001b[38;5;241m*\u001b[39m\u001b[38;5;241m*\u001b[39mdefault_check_params, \u001b[38;5;241m*\u001b[39m\u001b[38;5;241m*\u001b[39mcheck_y_params}\n",
      "File \u001b[1;32m~\\AppData\\Local\\Packages\\PythonSoftwareFoundation.Python.3.10_qbz5n2kfra8p0\\LocalCache\\local-packages\\Python310\\site-packages\\sklearn\\utils\\validation.py:917\u001b[0m, in \u001b[0;36mcheck_array\u001b[1;34m(array, accept_sparse, accept_large_sparse, dtype, order, copy, force_all_finite, ensure_2d, allow_nd, ensure_min_samples, ensure_min_features, estimator, input_name)\u001b[0m\n\u001b[0;32m    915\u001b[0m         array \u001b[38;5;241m=\u001b[39m xp\u001b[38;5;241m.\u001b[39mastype(array, dtype, copy\u001b[38;5;241m=\u001b[39m\u001b[38;5;28;01mFalse\u001b[39;00m)\n\u001b[0;32m    916\u001b[0m     \u001b[38;5;28;01melse\u001b[39;00m:\n\u001b[1;32m--> 917\u001b[0m         array \u001b[38;5;241m=\u001b[39m \u001b[43m_asarray_with_order\u001b[49m\u001b[43m(\u001b[49m\u001b[43marray\u001b[49m\u001b[43m,\u001b[49m\u001b[43m \u001b[49m\u001b[43morder\u001b[49m\u001b[38;5;241;43m=\u001b[39;49m\u001b[43morder\u001b[49m\u001b[43m,\u001b[49m\u001b[43m \u001b[49m\u001b[43mdtype\u001b[49m\u001b[38;5;241;43m=\u001b[39;49m\u001b[43mdtype\u001b[49m\u001b[43m,\u001b[49m\u001b[43m \u001b[49m\u001b[43mxp\u001b[49m\u001b[38;5;241;43m=\u001b[39;49m\u001b[43mxp\u001b[49m\u001b[43m)\u001b[49m\n\u001b[0;32m    918\u001b[0m \u001b[38;5;28;01mexcept\u001b[39;00m ComplexWarning \u001b[38;5;28;01mas\u001b[39;00m complex_warning:\n\u001b[0;32m    919\u001b[0m     \u001b[38;5;28;01mraise\u001b[39;00m \u001b[38;5;167;01mValueError\u001b[39;00m(\n\u001b[0;32m    920\u001b[0m         \u001b[38;5;124m\"\u001b[39m\u001b[38;5;124mComplex data not supported\u001b[39m\u001b[38;5;130;01m\\n\u001b[39;00m\u001b[38;5;132;01m{}\u001b[39;00m\u001b[38;5;130;01m\\n\u001b[39;00m\u001b[38;5;124m\"\u001b[39m\u001b[38;5;241m.\u001b[39mformat(array)\n\u001b[0;32m    921\u001b[0m     ) \u001b[38;5;28;01mfrom\u001b[39;00m \u001b[38;5;21;01mcomplex_warning\u001b[39;00m\n",
      "File \u001b[1;32m~\\AppData\\Local\\Packages\\PythonSoftwareFoundation.Python.3.10_qbz5n2kfra8p0\\LocalCache\\local-packages\\Python310\\site-packages\\sklearn\\utils\\_array_api.py:380\u001b[0m, in \u001b[0;36m_asarray_with_order\u001b[1;34m(array, dtype, order, copy, xp)\u001b[0m\n\u001b[0;32m    378\u001b[0m     array \u001b[38;5;241m=\u001b[39m numpy\u001b[38;5;241m.\u001b[39marray(array, order\u001b[38;5;241m=\u001b[39morder, dtype\u001b[38;5;241m=\u001b[39mdtype)\n\u001b[0;32m    379\u001b[0m \u001b[38;5;28;01melse\u001b[39;00m:\n\u001b[1;32m--> 380\u001b[0m     array \u001b[38;5;241m=\u001b[39m \u001b[43mnumpy\u001b[49m\u001b[38;5;241;43m.\u001b[39;49m\u001b[43masarray\u001b[49m\u001b[43m(\u001b[49m\u001b[43marray\u001b[49m\u001b[43m,\u001b[49m\u001b[43m \u001b[49m\u001b[43morder\u001b[49m\u001b[38;5;241;43m=\u001b[39;49m\u001b[43morder\u001b[49m\u001b[43m,\u001b[49m\u001b[43m \u001b[49m\u001b[43mdtype\u001b[49m\u001b[38;5;241;43m=\u001b[39;49m\u001b[43mdtype\u001b[49m\u001b[43m)\u001b[49m\n\u001b[0;32m    382\u001b[0m \u001b[38;5;66;03m# At this point array is a NumPy ndarray. We convert it to an array\u001b[39;00m\n\u001b[0;32m    383\u001b[0m \u001b[38;5;66;03m# container that is consistent with the input's namespace.\u001b[39;00m\n\u001b[0;32m    384\u001b[0m \u001b[38;5;28;01mreturn\u001b[39;00m xp\u001b[38;5;241m.\u001b[39masarray(array)\n",
      "File \u001b[1;32m~\\AppData\\Local\\Packages\\PythonSoftwareFoundation.Python.3.10_qbz5n2kfra8p0\\LocalCache\\local-packages\\Python310\\site-packages\\pandas\\core\\generic.py:2153\u001b[0m, in \u001b[0;36mNDFrame.__array__\u001b[1;34m(self, dtype, copy)\u001b[0m\n\u001b[0;32m   2149\u001b[0m \u001b[38;5;28;01mdef\u001b[39;00m \u001b[38;5;21m__array__\u001b[39m(\n\u001b[0;32m   2150\u001b[0m     \u001b[38;5;28mself\u001b[39m, dtype: npt\u001b[38;5;241m.\u001b[39mDTypeLike \u001b[38;5;241m|\u001b[39m \u001b[38;5;28;01mNone\u001b[39;00m \u001b[38;5;241m=\u001b[39m \u001b[38;5;28;01mNone\u001b[39;00m, copy: bool_t \u001b[38;5;241m|\u001b[39m \u001b[38;5;28;01mNone\u001b[39;00m \u001b[38;5;241m=\u001b[39m \u001b[38;5;28;01mNone\u001b[39;00m\n\u001b[0;32m   2151\u001b[0m ) \u001b[38;5;241m-\u001b[39m\u001b[38;5;241m>\u001b[39m np\u001b[38;5;241m.\u001b[39mndarray:\n\u001b[0;32m   2152\u001b[0m     values \u001b[38;5;241m=\u001b[39m \u001b[38;5;28mself\u001b[39m\u001b[38;5;241m.\u001b[39m_values\n\u001b[1;32m-> 2153\u001b[0m     arr \u001b[38;5;241m=\u001b[39m \u001b[43mnp\u001b[49m\u001b[38;5;241;43m.\u001b[39;49m\u001b[43masarray\u001b[49m\u001b[43m(\u001b[49m\u001b[43mvalues\u001b[49m\u001b[43m,\u001b[49m\u001b[43m \u001b[49m\u001b[43mdtype\u001b[49m\u001b[38;5;241;43m=\u001b[39;49m\u001b[43mdtype\u001b[49m\u001b[43m)\u001b[49m\n\u001b[0;32m   2154\u001b[0m     \u001b[38;5;28;01mif\u001b[39;00m (\n\u001b[0;32m   2155\u001b[0m         astype_is_view(values\u001b[38;5;241m.\u001b[39mdtype, arr\u001b[38;5;241m.\u001b[39mdtype)\n\u001b[0;32m   2156\u001b[0m         \u001b[38;5;129;01mand\u001b[39;00m using_copy_on_write()\n\u001b[0;32m   2157\u001b[0m         \u001b[38;5;129;01mand\u001b[39;00m \u001b[38;5;28mself\u001b[39m\u001b[38;5;241m.\u001b[39m_mgr\u001b[38;5;241m.\u001b[39mis_single_block\n\u001b[0;32m   2158\u001b[0m     ):\n\u001b[0;32m   2159\u001b[0m         \u001b[38;5;66;03m# Check if both conversions can be done without a copy\u001b[39;00m\n\u001b[0;32m   2160\u001b[0m         \u001b[38;5;28;01mif\u001b[39;00m astype_is_view(\u001b[38;5;28mself\u001b[39m\u001b[38;5;241m.\u001b[39mdtypes\u001b[38;5;241m.\u001b[39miloc[\u001b[38;5;241m0\u001b[39m], values\u001b[38;5;241m.\u001b[39mdtype) \u001b[38;5;129;01mand\u001b[39;00m astype_is_view(\n\u001b[0;32m   2161\u001b[0m             values\u001b[38;5;241m.\u001b[39mdtype, arr\u001b[38;5;241m.\u001b[39mdtype\n\u001b[0;32m   2162\u001b[0m         ):\n",
      "\u001b[1;31mTypeError\u001b[0m: float() argument must be a string or a real number, not 'dict'"
     ]
    }
   ],
   "source": [
    "from learn import Learn,LOSOEvaluate\n",
    "model = DecisionTreeClassifier(random_state=0)\n",
    "X = df\n",
    "y = df['label']\n",
    "learn = Learn(model,X,y)\n",
    "loso = LOSOEvaluate(learn)\n",
    "loso.test()"
   ]
  }
 ],
 "metadata": {
  "kernelspec": {
   "display_name": "Python 3",
   "language": "python",
   "name": "python3"
  },
  "language_info": {
   "codemirror_mode": {
    "name": "ipython",
    "version": 3
   },
   "file_extension": ".py",
   "mimetype": "text/x-python",
   "name": "python",
   "nbconvert_exporter": "python",
   "pygments_lexer": "ipython3",
   "version": "3.10.11"
  }
 },
 "nbformat": 4,
 "nbformat_minor": 2
}
