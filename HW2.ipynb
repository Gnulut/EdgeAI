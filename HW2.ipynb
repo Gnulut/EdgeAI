{
 "cells": [
  {
   "cell_type": "code",
   "execution_count": 1,
   "metadata": {},
   "outputs": [
    {
     "data": {
      "text/plain": [
       "<Figure size 1000x600 with 0 Axes>"
      ]
     },
     "metadata": {},
     "output_type": "display_data"
    }
   ],
   "source": [
    "from sklearn.tree import DecisionTreeClassifier\n",
    "from sklearn.ensemble import RandomForestClassifier,AdaBoostClassifier\n",
    "from sklearn.discriminant_analysis import LinearDiscriminantAnalysis\n",
    "from sklearn.neighbors import KNeighborsClassifier\n",
    "from learn import Learn\n",
    "from load import WESAD\n",
    "import pandas as pd"
   ]
  },
  {
   "cell_type": "code",
   "execution_count": 2,
   "metadata": {},
   "outputs": [
    {
     "name": "stdout",
     "output_type": "stream",
     "text": [
      "Using ready-made DataFrame\n"
     ]
    }
   ],
   "source": [
    "wesad = WESAD()"
   ]
  },
  {
   "cell_type": "markdown",
   "metadata": {},
   "source": [
    "### mutiT_feature_extraction 內部程式講解"
   ]
  },
  {
   "cell_type": "code",
   "execution_count": 3,
   "metadata": {},
   "outputs": [],
   "source": [
    "cols = ['label', 'subject', 'ACC_0', 'ACC_1', 'ACC_2', 'ECG', 'EMG', 'EDA', 'Resp', 'Temp']\n",
    "sample_n = 700 * 100\n",
    "signal = wesad.group(sample_n=sample_n)"
   ]
  },
  {
   "cell_type": "code",
   "execution_count": 4,
   "metadata": {},
   "outputs": [
    {
     "data": {
      "text/plain": [
       "15"
      ]
     },
     "execution_count": 4,
     "metadata": {},
     "output_type": "execute_result"
    }
   ],
   "source": [
    "subjects_len = len(wesad._subjects)\n",
    "subjects_len"
   ]
  },
  {
   "cell_type": "code",
   "execution_count": 5,
   "metadata": {},
   "outputs": [
    {
     "name": "stdout",
     "output_type": "stream",
     "text": [
      "2100000\n",
      "2100000\n"
     ]
    }
   ],
   "source": [
    "print(subjects_len*sample_n*2)\n",
    "print(signal.shape[0])"
   ]
  },
  {
   "cell_type": "code",
   "execution_count": 6,
   "metadata": {},
   "outputs": [],
   "source": [
    "# second = 100\n",
    "# rolling_windows = {key: wesad.rolling_window(signal[key],shift=1400,window_size=700*second) for key in cols}\n"
   ]
  },
  {
   "cell_type": "markdown",
   "metadata": {},
   "source": [
    "# 特徵提取"
   ]
  },
  {
   "cell_type": "code",
   "execution_count": 7,
   "metadata": {},
   "outputs": [],
   "source": [
    "# wesad._subjects"
   ]
  },
  {
   "cell_type": "code",
   "execution_count": 8,
   "metadata": {},
   "outputs": [],
   "source": [
    "# pd.Series(['S10','S10','S9']).value_counts().idxmax()"
   ]
  },
  {
   "cell_type": "code",
   "execution_count": 9,
   "metadata": {},
   "outputs": [],
   "source": [
    "df = wesad.feature_extraction()"
   ]
  },
  {
   "cell_type": "code",
   "execution_count": 10,
   "metadata": {},
   "outputs": [
    {
     "data": {
      "text/html": [
       "<div>\n",
       "<style scoped>\n",
       "    .dataframe tbody tr th:only-of-type {\n",
       "        vertical-align: middle;\n",
       "    }\n",
       "\n",
       "    .dataframe tbody tr th {\n",
       "        vertical-align: top;\n",
       "    }\n",
       "\n",
       "    .dataframe thead th {\n",
       "        text-align: right;\n",
       "    }\n",
       "</style>\n",
       "<table border=\"1\" class=\"dataframe\">\n",
       "  <thead>\n",
       "    <tr style=\"text-align: right;\">\n",
       "      <th></th>\n",
       "      <th>label</th>\n",
       "      <th>subject</th>\n",
       "      <th>std_ACC_0</th>\n",
       "      <th>mean_ACC_0</th>\n",
       "      <th>std_ACC_1</th>\n",
       "      <th>mean_ACC_1</th>\n",
       "      <th>std_ACC_2</th>\n",
       "      <th>mean_ACC_2</th>\n",
       "      <th>ECG_ULF</th>\n",
       "      <th>ECG_LF</th>\n",
       "      <th>ECG_HF</th>\n",
       "      <th>ECG_UHF</th>\n",
       "      <th>std_EMG</th>\n",
       "      <th>mean_EMG</th>\n",
       "      <th>std_EDA</th>\n",
       "      <th>mean_EDA</th>\n",
       "      <th>std_Resp</th>\n",
       "      <th>mean_Resp</th>\n",
       "      <th>std_Temp</th>\n",
       "      <th>mean_Temp</th>\n",
       "    </tr>\n",
       "  </thead>\n",
       "  <tbody>\n",
       "    <tr>\n",
       "      <th>0</th>\n",
       "      <td>1</td>\n",
       "      <td>S10</td>\n",
       "      <td>0.021271</td>\n",
       "      <td>0.889884</td>\n",
       "      <td>0.062735</td>\n",
       "      <td>0.020906</td>\n",
       "      <td>0.199443</td>\n",
       "      <td>-0.039940</td>\n",
       "      <td>0.0</td>\n",
       "      <td>0.0</td>\n",
       "      <td>0.000000</td>\n",
       "      <td>0.006421</td>\n",
       "      <td>0.009878</td>\n",
       "      <td>-0.002217</td>\n",
       "      <td>0.030282</td>\n",
       "      <td>0.788044</td>\n",
       "      <td>2.634198</td>\n",
       "      <td>0.056419</td>\n",
       "      <td>0.119806</td>\n",
       "      <td>34.289406</td>\n",
       "    </tr>\n",
       "    <tr>\n",
       "      <th>1</th>\n",
       "      <td>1</td>\n",
       "      <td>S10</td>\n",
       "      <td>0.021313</td>\n",
       "      <td>0.889823</td>\n",
       "      <td>0.062963</td>\n",
       "      <td>0.020951</td>\n",
       "      <td>0.199521</td>\n",
       "      <td>-0.039639</td>\n",
       "      <td>0.0</td>\n",
       "      <td>0.0</td>\n",
       "      <td>0.000000</td>\n",
       "      <td>0.007438</td>\n",
       "      <td>0.009882</td>\n",
       "      <td>-0.002131</td>\n",
       "      <td>0.030367</td>\n",
       "      <td>0.788039</td>\n",
       "      <td>2.649357</td>\n",
       "      <td>0.048006</td>\n",
       "      <td>0.119455</td>\n",
       "      <td>34.289577</td>\n",
       "    </tr>\n",
       "    <tr>\n",
       "      <th>2</th>\n",
       "      <td>1</td>\n",
       "      <td>S10</td>\n",
       "      <td>0.021322</td>\n",
       "      <td>0.889825</td>\n",
       "      <td>0.063033</td>\n",
       "      <td>0.020503</td>\n",
       "      <td>0.199691</td>\n",
       "      <td>-0.038817</td>\n",
       "      <td>0.0</td>\n",
       "      <td>0.0</td>\n",
       "      <td>0.000000</td>\n",
       "      <td>0.007062</td>\n",
       "      <td>0.009842</td>\n",
       "      <td>-0.002183</td>\n",
       "      <td>0.030355</td>\n",
       "      <td>0.788115</td>\n",
       "      <td>2.639507</td>\n",
       "      <td>0.040639</td>\n",
       "      <td>0.119058</td>\n",
       "      <td>34.289707</td>\n",
       "    </tr>\n",
       "    <tr>\n",
       "      <th>3</th>\n",
       "      <td>1</td>\n",
       "      <td>S10</td>\n",
       "      <td>0.021385</td>\n",
       "      <td>0.889855</td>\n",
       "      <td>0.063105</td>\n",
       "      <td>0.020328</td>\n",
       "      <td>0.199683</td>\n",
       "      <td>-0.038486</td>\n",
       "      <td>0.0</td>\n",
       "      <td>0.0</td>\n",
       "      <td>0.000000</td>\n",
       "      <td>0.004007</td>\n",
       "      <td>0.009864</td>\n",
       "      <td>-0.002182</td>\n",
       "      <td>0.030323</td>\n",
       "      <td>0.788097</td>\n",
       "      <td>2.637443</td>\n",
       "      <td>0.022629</td>\n",
       "      <td>0.119151</td>\n",
       "      <td>34.289646</td>\n",
       "    </tr>\n",
       "    <tr>\n",
       "      <th>4</th>\n",
       "      <td>1</td>\n",
       "      <td>S10</td>\n",
       "      <td>0.021382</td>\n",
       "      <td>0.889944</td>\n",
       "      <td>0.063286</td>\n",
       "      <td>0.020103</td>\n",
       "      <td>0.199719</td>\n",
       "      <td>-0.037430</td>\n",
       "      <td>0.0</td>\n",
       "      <td>0.0</td>\n",
       "      <td>0.000000</td>\n",
       "      <td>0.002989</td>\n",
       "      <td>0.009871</td>\n",
       "      <td>-0.002235</td>\n",
       "      <td>0.030379</td>\n",
       "      <td>0.787997</td>\n",
       "      <td>2.634557</td>\n",
       "      <td>0.023969</td>\n",
       "      <td>0.118972</td>\n",
       "      <td>34.288979</td>\n",
       "    </tr>\n",
       "    <tr>\n",
       "      <th>...</th>\n",
       "      <td>...</td>\n",
       "      <td>...</td>\n",
       "      <td>...</td>\n",
       "      <td>...</td>\n",
       "      <td>...</td>\n",
       "      <td>...</td>\n",
       "      <td>...</td>\n",
       "      <td>...</td>\n",
       "      <td>...</td>\n",
       "      <td>...</td>\n",
       "      <td>...</td>\n",
       "      <td>...</td>\n",
       "      <td>...</td>\n",
       "      <td>...</td>\n",
       "      <td>...</td>\n",
       "      <td>...</td>\n",
       "      <td>...</td>\n",
       "      <td>...</td>\n",
       "      <td>...</td>\n",
       "      <td>...</td>\n",
       "    </tr>\n",
       "    <tr>\n",
       "      <th>585</th>\n",
       "      <td>2</td>\n",
       "      <td>S9</td>\n",
       "      <td>0.032277</td>\n",
       "      <td>0.830556</td>\n",
       "      <td>0.014130</td>\n",
       "      <td>-0.034694</td>\n",
       "      <td>0.079795</td>\n",
       "      <td>-0.412727</td>\n",
       "      <td>0.0</td>\n",
       "      <td>0.0</td>\n",
       "      <td>0.000000</td>\n",
       "      <td>0.002234</td>\n",
       "      <td>0.013880</td>\n",
       "      <td>-0.002947</td>\n",
       "      <td>0.333532</td>\n",
       "      <td>3.368397</td>\n",
       "      <td>4.145131</td>\n",
       "      <td>0.104351</td>\n",
       "      <td>0.091899</td>\n",
       "      <td>34.569622</td>\n",
       "    </tr>\n",
       "    <tr>\n",
       "      <th>586</th>\n",
       "      <td>2</td>\n",
       "      <td>S9</td>\n",
       "      <td>0.032167</td>\n",
       "      <td>0.830193</td>\n",
       "      <td>0.014207</td>\n",
       "      <td>-0.034746</td>\n",
       "      <td>0.079781</td>\n",
       "      <td>-0.413306</td>\n",
       "      <td>0.0</td>\n",
       "      <td>0.0</td>\n",
       "      <td>0.000000</td>\n",
       "      <td>0.002491</td>\n",
       "      <td>0.013708</td>\n",
       "      <td>-0.002930</td>\n",
       "      <td>0.332781</td>\n",
       "      <td>3.369917</td>\n",
       "      <td>4.161123</td>\n",
       "      <td>0.094449</td>\n",
       "      <td>0.091450</td>\n",
       "      <td>34.570503</td>\n",
       "    </tr>\n",
       "    <tr>\n",
       "      <th>587</th>\n",
       "      <td>2</td>\n",
       "      <td>S9</td>\n",
       "      <td>0.032003</td>\n",
       "      <td>0.829981</td>\n",
       "      <td>0.014004</td>\n",
       "      <td>-0.034685</td>\n",
       "      <td>0.079369</td>\n",
       "      <td>-0.413921</td>\n",
       "      <td>0.0</td>\n",
       "      <td>0.0</td>\n",
       "      <td>0.000000</td>\n",
       "      <td>0.002040</td>\n",
       "      <td>0.013640</td>\n",
       "      <td>-0.002921</td>\n",
       "      <td>0.333639</td>\n",
       "      <td>3.371222</td>\n",
       "      <td>4.116823</td>\n",
       "      <td>0.066926</td>\n",
       "      <td>0.091659</td>\n",
       "      <td>34.570213</td>\n",
       "    </tr>\n",
       "    <tr>\n",
       "      <th>588</th>\n",
       "      <td>2</td>\n",
       "      <td>S9</td>\n",
       "      <td>0.031957</td>\n",
       "      <td>0.829850</td>\n",
       "      <td>0.014010</td>\n",
       "      <td>-0.034610</td>\n",
       "      <td>0.079083</td>\n",
       "      <td>-0.414244</td>\n",
       "      <td>0.0</td>\n",
       "      <td>0.0</td>\n",
       "      <td>0.001363</td>\n",
       "      <td>0.002750</td>\n",
       "      <td>0.013637</td>\n",
       "      <td>-0.003089</td>\n",
       "      <td>0.335724</td>\n",
       "      <td>3.371309</td>\n",
       "      <td>4.128273</td>\n",
       "      <td>0.058739</td>\n",
       "      <td>0.092330</td>\n",
       "      <td>34.570221</td>\n",
       "    </tr>\n",
       "    <tr>\n",
       "      <th>589</th>\n",
       "      <td>2</td>\n",
       "      <td>S9</td>\n",
       "      <td>0.032046</td>\n",
       "      <td>0.829842</td>\n",
       "      <td>0.013841</td>\n",
       "      <td>-0.034606</td>\n",
       "      <td>0.079043</td>\n",
       "      <td>-0.414102</td>\n",
       "      <td>0.0</td>\n",
       "      <td>0.0</td>\n",
       "      <td>0.000000</td>\n",
       "      <td>0.002694</td>\n",
       "      <td>0.013757</td>\n",
       "      <td>-0.003059</td>\n",
       "      <td>0.336105</td>\n",
       "      <td>3.369960</td>\n",
       "      <td>4.098726</td>\n",
       "      <td>0.046544</td>\n",
       "      <td>0.092334</td>\n",
       "      <td>34.569935</td>\n",
       "    </tr>\n",
       "  </tbody>\n",
       "</table>\n",
       "<p>590 rows × 20 columns</p>\n",
       "</div>"
      ],
      "text/plain": [
       "     label subject  std_ACC_0  mean_ACC_0  std_ACC_1  mean_ACC_1  std_ACC_2  \\\n",
       "0        1     S10   0.021271    0.889884   0.062735    0.020906   0.199443   \n",
       "1        1     S10   0.021313    0.889823   0.062963    0.020951   0.199521   \n",
       "2        1     S10   0.021322    0.889825   0.063033    0.020503   0.199691   \n",
       "3        1     S10   0.021385    0.889855   0.063105    0.020328   0.199683   \n",
       "4        1     S10   0.021382    0.889944   0.063286    0.020103   0.199719   \n",
       "..     ...     ...        ...         ...        ...         ...        ...   \n",
       "585      2      S9   0.032277    0.830556   0.014130   -0.034694   0.079795   \n",
       "586      2      S9   0.032167    0.830193   0.014207   -0.034746   0.079781   \n",
       "587      2      S9   0.032003    0.829981   0.014004   -0.034685   0.079369   \n",
       "588      2      S9   0.031957    0.829850   0.014010   -0.034610   0.079083   \n",
       "589      2      S9   0.032046    0.829842   0.013841   -0.034606   0.079043   \n",
       "\n",
       "     mean_ACC_2  ECG_ULF  ECG_LF    ECG_HF   ECG_UHF   std_EMG  mean_EMG  \\\n",
       "0     -0.039940      0.0     0.0  0.000000  0.006421  0.009878 -0.002217   \n",
       "1     -0.039639      0.0     0.0  0.000000  0.007438  0.009882 -0.002131   \n",
       "2     -0.038817      0.0     0.0  0.000000  0.007062  0.009842 -0.002183   \n",
       "3     -0.038486      0.0     0.0  0.000000  0.004007  0.009864 -0.002182   \n",
       "4     -0.037430      0.0     0.0  0.000000  0.002989  0.009871 -0.002235   \n",
       "..          ...      ...     ...       ...       ...       ...       ...   \n",
       "585   -0.412727      0.0     0.0  0.000000  0.002234  0.013880 -0.002947   \n",
       "586   -0.413306      0.0     0.0  0.000000  0.002491  0.013708 -0.002930   \n",
       "587   -0.413921      0.0     0.0  0.000000  0.002040  0.013640 -0.002921   \n",
       "588   -0.414244      0.0     0.0  0.001363  0.002750  0.013637 -0.003089   \n",
       "589   -0.414102      0.0     0.0  0.000000  0.002694  0.013757 -0.003059   \n",
       "\n",
       "      std_EDA  mean_EDA  std_Resp  mean_Resp  std_Temp  mean_Temp  \n",
       "0    0.030282  0.788044  2.634198   0.056419  0.119806  34.289406  \n",
       "1    0.030367  0.788039  2.649357   0.048006  0.119455  34.289577  \n",
       "2    0.030355  0.788115  2.639507   0.040639  0.119058  34.289707  \n",
       "3    0.030323  0.788097  2.637443   0.022629  0.119151  34.289646  \n",
       "4    0.030379  0.787997  2.634557   0.023969  0.118972  34.288979  \n",
       "..        ...       ...       ...        ...       ...        ...  \n",
       "585  0.333532  3.368397  4.145131   0.104351  0.091899  34.569622  \n",
       "586  0.332781  3.369917  4.161123   0.094449  0.091450  34.570503  \n",
       "587  0.333639  3.371222  4.116823   0.066926  0.091659  34.570213  \n",
       "588  0.335724  3.371309  4.128273   0.058739  0.092330  34.570221  \n",
       "589  0.336105  3.369960  4.098726   0.046544  0.092334  34.569935  \n",
       "\n",
       "[590 rows x 20 columns]"
      ]
     },
     "execution_count": 10,
     "metadata": {},
     "output_type": "execute_result"
    }
   ],
   "source": [
    "df"
   ]
  },
  {
   "cell_type": "code",
   "execution_count": 11,
   "metadata": {},
   "outputs": [
    {
     "data": {
      "text/plain": [
       "subject  label\n",
       "S10      1        15\n",
       "         2        20\n",
       "S11      1        20\n",
       "         2        20\n",
       "S13      1        20\n",
       "         2        20\n",
       "S14      1        20\n",
       "         2        20\n",
       "S15      1        20\n",
       "         2        20\n",
       "S16      1        20\n",
       "         2        20\n",
       "S17      1        20\n",
       "         2        20\n",
       "S2       1        20\n",
       "         2        20\n",
       "S3       1        20\n",
       "         2        20\n",
       "S4       1        20\n",
       "         2        20\n",
       "S5       1        20\n",
       "         2        20\n",
       "S6       1        20\n",
       "         2        20\n",
       "S7       1        20\n",
       "         2        20\n",
       "S8       1        20\n",
       "         2        20\n",
       "S9       1        20\n",
       "         2        15\n",
       "dtype: int64"
      ]
     },
     "execution_count": 11,
     "metadata": {},
     "output_type": "execute_result"
    }
   ],
   "source": [
    "df.groupby(['subject','label']).size()"
   ]
  },
  {
   "cell_type": "code",
   "execution_count": 12,
   "metadata": {},
   "outputs": [
    {
     "data": {
      "text/plain": [
       "15"
      ]
     },
     "execution_count": 12,
     "metadata": {},
     "output_type": "execute_result"
    }
   ],
   "source": [
    "df.groupby(['subject']).size().size"
   ]
  },
  {
   "cell_type": "code",
   "execution_count": 13,
   "metadata": {},
   "outputs": [
    {
     "name": "stdout",
     "output_type": "stream",
     "text": [
      "shape of [subject,feature,labels] ((590,), (590, 18), (590,))\n",
      "model accuracy:  0.8305\n",
      "              precision    recall  f1-score   support\n",
      "\n",
      "           1     0.8115    0.8610    0.8355       295\n",
      "           2     0.8520    0.8000    0.8252       295\n",
      "\n",
      "    accuracy                         0.8305       590\n",
      "   macro avg     0.8317    0.8305    0.8304       590\n",
      "weighted avg     0.8317    0.8305    0.8304       590\n",
      "\n"
     ]
    }
   ],
   "source": [
    "from learn import Learn,LOSOEvaluate\n",
    "model = DecisionTreeClassifier(random_state=0)\n",
    "X = df\n",
    "y = df['label']\n",
    "learn = Learn(model,X,y)\n",
    "loso = LOSOEvaluate(learn)\n",
    "loso.test()"
   ]
  }
 ],
 "metadata": {
  "kernelspec": {
   "display_name": "Python 3",
   "language": "python",
   "name": "python3"
  },
  "language_info": {
   "codemirror_mode": {
    "name": "ipython",
    "version": 3
   },
   "file_extension": ".py",
   "mimetype": "text/x-python",
   "name": "python",
   "nbconvert_exporter": "python",
   "pygments_lexer": "ipython3",
   "version": "3.10.11"
  }
 },
 "nbformat": 4,
 "nbformat_minor": 2
}
