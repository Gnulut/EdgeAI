{
 "cells": [
  {
   "cell_type": "code",
   "execution_count": 1,
   "metadata": {},
   "outputs": [
    {
     "name": "stdout",
     "output_type": "stream",
     "text": [
      "Finished building DataFrame\n"
     ]
    },
    {
     "data": {
      "text/plain": [
       "<Figure size 1000x600 with 0 Axes>"
      ]
     },
     "metadata": {},
     "output_type": "display_data"
    }
   ],
   "source": [
    "from sklearn.tree import DecisionTreeClassifier\n",
    "from sklearn.ensemble import RandomForestClassifier,AdaBoostClassifier\n",
    "from sklearn.discriminant_analysis import LinearDiscriminantAnalysis\n",
    "from sklearn.neighbors import KNeighborsClassifier\n",
    "from learn import Learn,wesad"
   ]
  },
  {
   "cell_type": "code",
   "execution_count": 2,
   "metadata": {},
   "outputs": [
    {
     "name": "stdout",
     "output_type": "stream",
     "text": [
      "signal length: 1001/1001\n",
      "multi thread use 1 works\n"
     ]
    }
   ],
   "source": [
    "df = wesad.mutiT_feature_extraction()"
   ]
  },
  {
   "cell_type": "code",
   "execution_count": null,
   "metadata": {},
   "outputs": [],
   "source": [
    "df"
   ]
  },
  {
   "cell_type": "code",
   "execution_count": 3,
   "metadata": {},
   "outputs": [
    {
     "name": "stdout",
     "output_type": "stream",
     "text": [
      "shape of [subject,feature,labels] ((10,), (10, 8), (10,))\n",
      "model accuracy:  0.6000\n",
      "              precision    recall  f1-score   support\n",
      "\n",
      "           1     0.5556    1.0000    0.7143         5\n",
      "           2     1.0000    0.2000    0.3333         5\n",
      "\n",
      "    accuracy                         0.6000        10\n",
      "   macro avg     0.7778    0.6000    0.5238        10\n",
      "weighted avg     0.7778    0.6000    0.5238        10\n",
      "\n"
     ]
    }
   ],
   "source": [
    "from learn import Learn,LOSOEvaluate\n",
    "learn = Learn(DecisionTreeClassifier(random_state=0))\n",
    "loso = LOSOEvaluate(learn)\n",
    "loso.test()"
   ]
  }
 ],
 "metadata": {
  "kernelspec": {
   "display_name": "Python 3",
   "language": "python",
   "name": "python3"
  },
  "language_info": {
   "codemirror_mode": {
    "name": "ipython",
    "version": 3
   },
   "file_extension": ".py",
   "mimetype": "text/x-python",
   "name": "python",
   "nbconvert_exporter": "python",
   "pygments_lexer": "ipython3",
   "version": "3.10.11"
  }
 },
 "nbformat": 4,
 "nbformat_minor": 2
}
