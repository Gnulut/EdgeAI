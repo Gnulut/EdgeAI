{
 "cells": [
  {
   "cell_type": "markdown",
   "metadata": {},
   "source": [
    "## EMG\n",
    "\n",
    "Two Different Processing Chains\n",
    "   1. Fisrt Processing Chain\n",
    "      1. DC component was removed by applying a highpass filter\n",
    "      2. The filter signal was cut into 5-second windows\n",
    "      3. statistical and frequency-domain features(e.g. peak frequency) were computed\n",
    "      4. the spectral energy (PSD( fEMG )) was computed in seven evenly spaced frequency bands from 0 to 350 Hz\n",
    "\n",
    "   2. Second Processing Chain\n",
    "      1. lowpass filter (50 Hz) was applied to the raw EMG signal. \n",
    "      2. Next, the processed signal was segmented into 60-second windows. \n",
    "      3. On these windows different peak features, e.g. number #peaks EMG and meanamplitude μAmp EMG , were computed. \n",
    " \n",
    "For a more detailed description of EMG-based features, we refer the reader to Wijsman et al. [31].\n",
    "\n",
    "[31] J. Wijsman, B. Grundlehner, and H. Hermens. 2010. Trapezius muscle EMG as predictor of mental stress. In Wireless Health 2010 (WH ’10). 155–163."
   ]
  }
 ],
 "metadata": {
  "language_info": {
   "name": "python"
  }
 },
 "nbformat": 4,
 "nbformat_minor": 2
}
