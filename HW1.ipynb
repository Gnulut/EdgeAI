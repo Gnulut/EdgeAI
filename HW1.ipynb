{
 "cells": [
  {
   "cell_type": "code",
   "execution_count": 1,
   "metadata": {},
   "outputs": [
    {
     "name": "stdout",
     "output_type": "stream",
     "text": [
      "Finished building DataFrame\n"
     ]
    }
   ],
   "source": [
    "from sklearn.tree import DecisionTreeClassifier\n",
    "from sklearn.ensemble import RandomForestClassifier,AdaBoostClassifier\n",
    "from sklearn.discriminant_analysis import LinearDiscriminantAnalysis\n",
    "from sklearn.neighbors import KNeighborsClassifier\n",
    "from learn import Learn"
   ]
  },
  {
   "cell_type": "code",
   "execution_count": 2,
   "metadata": {},
   "outputs": [
    {
     "name": "stdout",
     "output_type": "stream",
     "text": [
      "---------------DecisionTreeClassifier---------------\n",
      "              precision    recall  f1-score   support\n",
      "\n",
      "           1       0.87      1.00      0.93        13\n",
      "           2       1.00      0.82      0.90        11\n",
      "\n",
      "    accuracy                           0.92        24\n",
      "   macro avg       0.93      0.91      0.91        24\n",
      "weighted avg       0.93      0.92      0.92        24\n",
      "\n",
      "----------------------------------------------------\n",
      "---------------RandomForestClassifier---------------\n",
      "              precision    recall  f1-score   support\n",
      "\n",
      "           1       0.82      0.69      0.75        13\n",
      "           2       0.69      0.82      0.75        11\n",
      "\n",
      "    accuracy                           0.75        24\n",
      "   macro avg       0.76      0.76      0.75        24\n",
      "weighted avg       0.76      0.75      0.75        24\n",
      "\n",
      "----------------------------------------------------\n",
      "---------------AdaBoostClassifier---------------\n",
      "              precision    recall  f1-score   support\n",
      "\n",
      "           1       0.60      0.69      0.64        13\n",
      "           2       0.56      0.45      0.50        11\n",
      "\n",
      "    accuracy                           0.58        24\n",
      "   macro avg       0.58      0.57      0.57        24\n",
      "weighted avg       0.58      0.58      0.58        24\n",
      "\n",
      "------------------------------------------------\n",
      "---------------LinearDiscriminantAnalysis---------------\n",
      "              precision    recall  f1-score   support\n",
      "\n",
      "           1       0.58      0.54      0.56        13\n",
      "           2       0.50      0.55      0.52        11\n",
      "\n",
      "    accuracy                           0.54        24\n",
      "   macro avg       0.54      0.54      0.54        24\n",
      "weighted avg       0.55      0.54      0.54        24\n",
      "\n",
      "--------------------------------------------------------\n",
      "---------------KNeighborsClassifier---------------\n",
      "              precision    recall  f1-score   support\n",
      "\n",
      "           1       0.62      0.62      0.62        13\n",
      "           2       0.55      0.55      0.55        11\n",
      "\n",
      "    accuracy                           0.58        24\n",
      "   macro avg       0.58      0.58      0.58        24\n",
      "weighted avg       0.58      0.58      0.58        24\n",
      "\n",
      "--------------------------------------------------\n"
     ]
    }
   ],
   "source": [
    "models = [DecisionTreeClassifier(random_state=0),\n",
    "          RandomForestClassifier(),\n",
    "          AdaBoostClassifier(n_estimators=100,random_state=0),\n",
    "          LinearDiscriminantAnalysis(),\n",
    "          KNeighborsClassifier(n_neighbors=3)]\n",
    "for model in models:\n",
    "    class_name = model.__class__.__name__\n",
    "    print(f\"---------------{class_name}---------------\")\n",
    "    learn = Learn(model)\n",
    "    print(learn.test())\n",
    "    print('-'*(30+len(class_name)))"
   ]
  },
  {
   "cell_type": "code",
   "execution_count": null,
   "metadata": {},
   "outputs": [],
   "source": []
  }
 ],
 "metadata": {
  "kernelspec": {
   "display_name": "Python 3",
   "language": "python",
   "name": "python3"
  },
  "language_info": {
   "codemirror_mode": {
    "name": "ipython",
    "version": 3
   },
   "file_extension": ".py",
   "mimetype": "text/x-python",
   "name": "python",
   "nbconvert_exporter": "python",
   "pygments_lexer": "ipython3",
   "version": "3.10.11"
  }
 },
 "nbformat": 4,
 "nbformat_minor": 2
}
