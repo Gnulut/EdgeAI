{
 "cells": [
  {
   "cell_type": "code",
   "execution_count": 1,
   "metadata": {},
   "outputs": [
    {
     "data": {
      "text/plain": [
       "<Figure size 1000x600 with 0 Axes>"
      ]
     },
     "metadata": {},
     "output_type": "display_data"
    }
   ],
   "source": [
    "from sklearn.tree import DecisionTreeClassifier\n",
    "from sklearn.ensemble import RandomForestClassifier,AdaBoostClassifier\n",
    "from sklearn.discriminant_analysis import LinearDiscriminantAnalysis\n",
    "from sklearn.neighbors import KNeighborsClassifier\n",
    "from learn import Learn,NormalEvaluate\n",
    "from load import WESAD"
   ]
  },
  {
   "cell_type": "code",
   "execution_count": 2,
   "metadata": {},
   "outputs": [
    {
     "name": "stdout",
     "output_type": "stream",
     "text": [
      "Finished building DataFrame\n",
      "---------------DecisionTreeClassifier---------------\n",
      "              precision    recall  f1-score   support\n",
      "\n",
      "           1       1.00      0.81      0.90        27\n",
      "           2       0.78      1.00      0.88        18\n",
      "\n",
      "    accuracy                           0.89        45\n",
      "   macro avg       0.89      0.91      0.89        45\n",
      "weighted avg       0.91      0.89      0.89        45\n",
      "\n",
      "----------------------------------------------------\n",
      "---------------RandomForestClassifier---------------\n",
      "              precision    recall  f1-score   support\n",
      "\n",
      "           1       0.96      0.89      0.92        27\n",
      "           2       0.85      0.94      0.89        18\n",
      "\n",
      "    accuracy                           0.91        45\n",
      "   macro avg       0.91      0.92      0.91        45\n",
      "weighted avg       0.92      0.91      0.91        45\n",
      "\n",
      "----------------------------------------------------\n",
      "---------------AdaBoostClassifier---------------\n",
      "              precision    recall  f1-score   support\n",
      "\n",
      "           1       0.92      0.81      0.86        27\n",
      "           2       0.76      0.89      0.82        18\n",
      "\n",
      "    accuracy                           0.84        45\n",
      "   macro avg       0.84      0.85      0.84        45\n",
      "weighted avg       0.85      0.84      0.85        45\n",
      "\n",
      "------------------------------------------------\n",
      "---------------LinearDiscriminantAnalysis---------------\n",
      "              precision    recall  f1-score   support\n",
      "\n",
      "           1       0.77      0.63      0.69        27\n",
      "           2       0.57      0.72      0.63        18\n",
      "\n",
      "    accuracy                           0.67        45\n",
      "   macro avg       0.67      0.68      0.66        45\n",
      "weighted avg       0.69      0.67      0.67        45\n",
      "\n",
      "--------------------------------------------------------\n"
     ]
    }
   ],
   "source": [
    "models = [DecisionTreeClassifier(random_state=0),\n",
    "          RandomForestClassifier(),\n",
    "          AdaBoostClassifier(n_estimators=100,random_state=0),\n",
    "          LinearDiscriminantAnalysis()\n",
    "]\n",
    "          #KNeighborsClassifier(n_neighbors=3)]\n",
    "wesad = WESAD()\n",
    "X = wesad.group_df\n",
    "y = X['label']\n",
    "for model in models:\n",
    "    class_name = model.__class__.__name__\n",
    "    print(f\"---------------{class_name}---------------\")\n",
    "    learn = Learn(model,X,y)\n",
    "    normal_evaluate = NormalEvaluate(learn)\n",
    "    normal_evaluate.test()\n",
    "    print('-'*(30+len(class_name)))"
   ]
  }
 ],
 "metadata": {
  "kernelspec": {
   "display_name": "Python 3",
   "language": "python",
   "name": "python3"
  },
  "language_info": {
   "codemirror_mode": {
    "name": "ipython",
    "version": 3
   },
   "file_extension": ".py",
   "mimetype": "text/x-python",
   "name": "python",
   "nbconvert_exporter": "python",
   "pygments_lexer": "ipython3",
   "version": "3.10.11"
  }
 },
 "nbformat": 4,
 "nbformat_minor": 2
}
